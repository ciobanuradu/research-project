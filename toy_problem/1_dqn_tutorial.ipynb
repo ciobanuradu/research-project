{
  "cells": [
    {
      "cell_type": "markdown",
      "metadata": {
        "id": "klGNgWREsvQv"
      },
      "source": [
        "##### Copyright 2023 The TF-Agents Authors."
      ]
    },
    {
      "cell_type": "code",
      "execution_count": 1,
      "metadata": {
        "cellView": "form",
        "id": "nQnmcm0oI1Q-"
      },
      "outputs": [],
      "source": [
        "#@title Licensed under the Apache License, Version 2.0 (the \"License\");\n",
        "# you may not use this file except in compliance with the License.\n",
        "# You may obtain a copy of the License at\n",
        "#\n",
        "# https://www.apache.org/licenses/LICENSE-2.0\n",
        "#\n",
        "# Unless required by applicable law or agreed to in writing, software\n",
        "# distributed under the License is distributed on an \"AS IS\" BASIS,\n",
        "# WITHOUT WARRANTIES OR CONDITIONS OF ANY KIND, either express or implied.\n",
        "# See the License for the specific language governing permissions and\n",
        "# limitations under the License."
      ]
    },
    {
      "cell_type": "markdown",
      "metadata": {
        "id": "pmDI-h7cI0tI"
      },
      "source": [
        "# Train a Deep Q Network with TF-Agents\n",
        "\n",
        "<table class=\"tfo-notebook-buttons\" align=\"left\">\n",
        "  <td>\n",
        "    <a target=\"_blank\" href=\"https://www.tensorflow.org/agents/tutorials/1_dqn_tutorial\">\n",
        "    <img src=\"https://www.tensorflow.org/images/tf_logo_32px.png\" />\n",
        "    View on TensorFlow.org</a>\n",
        "  </td>\n",
        "  <td>\n",
        "    <a target=\"_blank\" href=\"https://colab.research.google.com/github/tensorflow/agents/blob/master/docs/tutorials/1_dqn_tutorial.ipynb\">\n",
        "    <img src=\"https://www.tensorflow.org/images/colab_logo_32px.png\" />\n",
        "    Run in Google Colab</a>\n",
        "  </td>\n",
        "  <td>\n",
        "    <a target=\"_blank\" href=\"https://github.com/tensorflow/agents/blob/master/docs/tutorials/1_dqn_tutorial.ipynb\">\n",
        "    <img src=\"https://www.tensorflow.org/images/GitHub-Mark-32px.png\" />\n",
        "    View source on GitHub</a>\n",
        "  </td>\n",
        "  <td>\n",
        "    <a href=\"https://storage.googleapis.com/tensorflow_docs/agents/docs/tutorials/1_dqn_tutorial.ipynb\"><img src=\"https://www.tensorflow.org/images/download_logo_32px.png\" />Download notebook</a>\n",
        "  </td>\n",
        "</table>"
      ]
    },
    {
      "cell_type": "markdown",
      "metadata": {
        "id": "lsaQlK8fFQqH"
      },
      "source": [
        "## Introduction\n"
      ]
    },
    {
      "cell_type": "markdown",
      "metadata": {
        "id": "cKOCZlhUgXVK"
      },
      "source": [
        "This example shows how to train a [DQN (Deep Q Networks)](https://storage.googleapis.com/deepmind-media/dqn/DQNNaturePaper.pdf)  agent on the Cartpole environment using the TF-Agents library.\n",
        "\n",
        "![Cartpole environment](https://raw.githubusercontent.com/tensorflow/agents/master/docs/tutorials/images/cartpole.png)\n",
        "\n",
        "It will walk you through all the components in a Reinforcement Learning (RL) pipeline for training, evaluation and data collection.\n",
        "\n",
        "\n",
        "To run this code live, click the 'Run in Google Colab' link above.\n"
      ]
    },
    {
      "cell_type": "markdown",
      "metadata": {
        "id": "1u9QVVsShC9X"
      },
      "source": [
        "## Setup"
      ]
    },
    {
      "cell_type": "markdown",
      "metadata": {
        "id": "kNrNXKI7bINP"
      },
      "source": [
        "If you haven't installed the following dependencies, run:"
      ]
    },
    {
      "cell_type": "code",
      "execution_count": 34,
      "metadata": {
        "id": "KEHR2Ui-lo8O"
      },
      "outputs": [
        {
          "name": "stdout",
          "output_type": "stream",
          "text": [
            "Requirement already satisfied: imageio==2.4.0 in /home/user/research-project/lib/python3.10/site-packages (2.4.0)\n",
            "Requirement already satisfied: numpy in /home/user/research-project/lib/python3.10/site-packages (from imageio==2.4.0) (1.26.4)\n",
            "Requirement already satisfied: pillow in /home/user/research-project/lib/python3.10/site-packages (from imageio==2.4.0) (10.3.0)\n",
            "Requirement already satisfied: pyvirtualdisplay in /home/user/research-project/lib/python3.10/site-packages (3.0)\n",
            "Requirement already satisfied: tf-agents[reverb] in /home/user/research-project/lib/python3.10/site-packages (0.19.0)\n",
            "Requirement already satisfied: gin-config>=0.4.0 in /home/user/research-project/lib/python3.10/site-packages (from tf-agents[reverb]) (0.5.0)\n",
            "Requirement already satisfied: cloudpickle>=1.3 in /home/user/research-project/lib/python3.10/site-packages (from tf-agents[reverb]) (3.0.0)\n",
            "Requirement already satisfied: wrapt>=1.11.1 in /home/user/research-project/lib/python3.10/site-packages (from tf-agents[reverb]) (1.14.1)\n",
            "Requirement already satisfied: tensorflow-probability~=0.23.0 in /home/user/research-project/lib/python3.10/site-packages (from tf-agents[reverb]) (0.23.0)\n",
            "Requirement already satisfied: protobuf>=3.11.3 in /home/user/research-project/lib/python3.10/site-packages (from tf-agents[reverb]) (4.25.3)\n",
            "Collecting typing-extensions==4.5.0\n",
            "  Using cached typing_extensions-4.5.0-py3-none-any.whl (27 kB)\n",
            "Requirement already satisfied: six>=1.10.0 in /home/user/research-project/lib/python3.10/site-packages (from tf-agents[reverb]) (1.16.0)\n",
            "Requirement already satisfied: pillow in /home/user/research-project/lib/python3.10/site-packages (from tf-agents[reverb]) (10.3.0)\n",
            "Requirement already satisfied: numpy>=1.19.0 in /home/user/research-project/lib/python3.10/site-packages (from tf-agents[reverb]) (1.26.4)\n",
            "Requirement already satisfied: absl-py>=0.6.1 in /home/user/research-project/lib/python3.10/site-packages (from tf-agents[reverb]) (2.1.0)\n",
            "Requirement already satisfied: gym<=0.23.0,>=0.17.0 in /home/user/research-project/lib/python3.10/site-packages (from tf-agents[reverb]) (0.23.0)\n",
            "Requirement already satisfied: pygame==2.1.3 in /home/user/research-project/lib/python3.10/site-packages (from tf-agents[reverb]) (2.1.3)\n",
            "Requirement already satisfied: tensorflow~=2.15.0 in /home/user/research-project/lib/python3.10/site-packages (from tf-agents[reverb]) (2.15.0)\n",
            "Requirement already satisfied: dm-reverb~=0.14.0 in /home/user/research-project/lib/python3.10/site-packages (from tf-agents[reverb]) (0.14.0)\n",
            "Requirement already satisfied: rlds in /home/user/research-project/lib/python3.10/site-packages (from tf-agents[reverb]) (0.1.8)\n",
            "Requirement already satisfied: portpicker in /home/user/research-project/lib/python3.10/site-packages (from dm-reverb~=0.14.0->tf-agents[reverb]) (1.6.0)\n",
            "Requirement already satisfied: dm-tree in /home/user/research-project/lib/python3.10/site-packages (from dm-reverb~=0.14.0->tf-agents[reverb]) (0.1.8)\n",
            "Requirement already satisfied: gym-notices>=0.0.4 in /home/user/research-project/lib/python3.10/site-packages (from gym<=0.23.0,>=0.17.0->tf-agents[reverb]) (0.0.8)\n",
            "Requirement already satisfied: grpcio<2.0,>=1.24.3 in /home/user/research-project/lib/python3.10/site-packages (from tensorflow~=2.15.0->tf-agents[reverb]) (1.63.0)\n",
            "Requirement already satisfied: tensorflow-estimator<2.16,>=2.15.0 in /home/user/research-project/lib/python3.10/site-packages (from tensorflow~=2.15.0->tf-agents[reverb]) (2.15.0)\n",
            "Requirement already satisfied: packaging in /home/user/research-project/lib/python3.10/site-packages (from tensorflow~=2.15.0->tf-agents[reverb]) (24.0)\n",
            "Requirement already satisfied: astunparse>=1.6.0 in /home/user/research-project/lib/python3.10/site-packages (from tensorflow~=2.15.0->tf-agents[reverb]) (1.6.3)\n",
            "Requirement already satisfied: ml-dtypes~=0.2.0 in /home/user/research-project/lib/python3.10/site-packages (from tensorflow~=2.15.0->tf-agents[reverb]) (0.2.0)\n",
            "Requirement already satisfied: tensorflow-io-gcs-filesystem>=0.23.1 in /home/user/research-project/lib/python3.10/site-packages (from tensorflow~=2.15.0->tf-agents[reverb]) (0.37.0)\n",
            "Requirement already satisfied: google-pasta>=0.1.1 in /home/user/research-project/lib/python3.10/site-packages (from tensorflow~=2.15.0->tf-agents[reverb]) (0.2.0)\n",
            "Requirement already satisfied: setuptools in /home/user/research-project/lib/python3.10/site-packages (from tensorflow~=2.15.0->tf-agents[reverb]) (59.6.0)\n",
            "Requirement already satisfied: h5py>=2.9.0 in /home/user/research-project/lib/python3.10/site-packages (from tensorflow~=2.15.0->tf-agents[reverb]) (3.11.0)\n",
            "Requirement already satisfied: termcolor>=1.1.0 in /home/user/research-project/lib/python3.10/site-packages (from tensorflow~=2.15.0->tf-agents[reverb]) (2.4.0)\n",
            "Requirement already satisfied: keras<2.16,>=2.15.0 in /home/user/research-project/lib/python3.10/site-packages (from tensorflow~=2.15.0->tf-agents[reverb]) (2.15.0)\n",
            "Requirement already satisfied: opt-einsum>=2.3.2 in /home/user/research-project/lib/python3.10/site-packages (from tensorflow~=2.15.0->tf-agents[reverb]) (3.3.0)\n",
            "Requirement already satisfied: libclang>=13.0.0 in /home/user/research-project/lib/python3.10/site-packages (from tensorflow~=2.15.0->tf-agents[reverb]) (18.1.1)\n",
            "Requirement already satisfied: gast!=0.5.0,!=0.5.1,!=0.5.2,>=0.2.1 in /home/user/research-project/lib/python3.10/site-packages (from tensorflow~=2.15.0->tf-agents[reverb]) (0.5.4)\n",
            "Requirement already satisfied: flatbuffers>=23.5.26 in /home/user/research-project/lib/python3.10/site-packages (from tensorflow~=2.15.0->tf-agents[reverb]) (24.3.25)\n",
            "Requirement already satisfied: tensorboard<2.16,>=2.15 in /home/user/research-project/lib/python3.10/site-packages (from tensorflow~=2.15.0->tf-agents[reverb]) (2.15.2)\n",
            "Requirement already satisfied: decorator in /home/user/research-project/lib/python3.10/site-packages (from tensorflow-probability~=0.23.0->tf-agents[reverb]) (5.1.1)\n",
            "Requirement already satisfied: wheel<1.0,>=0.23.0 in /home/user/research-project/lib/python3.10/site-packages (from astunparse>=1.6.0->tensorflow~=2.15.0->tf-agents[reverb]) (0.43.0)\n",
            "Requirement already satisfied: google-auth<3,>=1.6.3 in /home/user/research-project/lib/python3.10/site-packages (from tensorboard<2.16,>=2.15->tensorflow~=2.15.0->tf-agents[reverb]) (2.29.0)\n",
            "Requirement already satisfied: google-auth-oauthlib<2,>=0.5 in /home/user/research-project/lib/python3.10/site-packages (from tensorboard<2.16,>=2.15->tensorflow~=2.15.0->tf-agents[reverb]) (1.2.0)\n",
            "Requirement already satisfied: markdown>=2.6.8 in /home/user/research-project/lib/python3.10/site-packages (from tensorboard<2.16,>=2.15->tensorflow~=2.15.0->tf-agents[reverb]) (3.6)\n",
            "Requirement already satisfied: requests<3,>=2.21.0 in /home/user/research-project/lib/python3.10/site-packages (from tensorboard<2.16,>=2.15->tensorflow~=2.15.0->tf-agents[reverb]) (2.31.0)\n",
            "Requirement already satisfied: tensorboard-data-server<0.8.0,>=0.7.0 in /home/user/research-project/lib/python3.10/site-packages (from tensorboard<2.16,>=2.15->tensorflow~=2.15.0->tf-agents[reverb]) (0.7.2)\n",
            "Requirement already satisfied: werkzeug>=1.0.1 in /home/user/research-project/lib/python3.10/site-packages (from tensorboard<2.16,>=2.15->tensorflow~=2.15.0->tf-agents[reverb]) (3.0.2)\n",
            "Requirement already satisfied: psutil in /home/user/research-project/lib/python3.10/site-packages (from portpicker->dm-reverb~=0.14.0->tf-agents[reverb]) (5.9.8)\n",
            "Requirement already satisfied: pyasn1-modules>=0.2.1 in /home/user/research-project/lib/python3.10/site-packages (from google-auth<3,>=1.6.3->tensorboard<2.16,>=2.15->tensorflow~=2.15.0->tf-agents[reverb]) (0.4.0)\n",
            "Requirement already satisfied: rsa<5,>=3.1.4 in /home/user/research-project/lib/python3.10/site-packages (from google-auth<3,>=1.6.3->tensorboard<2.16,>=2.15->tensorflow~=2.15.0->tf-agents[reverb]) (4.9)\n",
            "Requirement already satisfied: cachetools<6.0,>=2.0.0 in /home/user/research-project/lib/python3.10/site-packages (from google-auth<3,>=1.6.3->tensorboard<2.16,>=2.15->tensorflow~=2.15.0->tf-agents[reverb]) (5.3.3)\n",
            "Requirement already satisfied: requests-oauthlib>=0.7.0 in /home/user/research-project/lib/python3.10/site-packages (from google-auth-oauthlib<2,>=0.5->tensorboard<2.16,>=2.15->tensorflow~=2.15.0->tf-agents[reverb]) (2.0.0)\n",
            "Requirement already satisfied: certifi>=2017.4.17 in /home/user/research-project/lib/python3.10/site-packages (from requests<3,>=2.21.0->tensorboard<2.16,>=2.15->tensorflow~=2.15.0->tf-agents[reverb]) (2024.2.2)\n",
            "Requirement already satisfied: urllib3<3,>=1.21.1 in /home/user/research-project/lib/python3.10/site-packages (from requests<3,>=2.21.0->tensorboard<2.16,>=2.15->tensorflow~=2.15.0->tf-agents[reverb]) (2.2.1)\n",
            "Requirement already satisfied: idna<4,>=2.5 in /home/user/research-project/lib/python3.10/site-packages (from requests<3,>=2.21.0->tensorboard<2.16,>=2.15->tensorflow~=2.15.0->tf-agents[reverb]) (3.7)\n",
            "Requirement already satisfied: charset-normalizer<4,>=2 in /home/user/research-project/lib/python3.10/site-packages (from requests<3,>=2.21.0->tensorboard<2.16,>=2.15->tensorflow~=2.15.0->tf-agents[reverb]) (3.3.2)\n",
            "Requirement already satisfied: MarkupSafe>=2.1.1 in /home/user/research-project/lib/python3.10/site-packages (from werkzeug>=1.0.1->tensorboard<2.16,>=2.15->tensorflow~=2.15.0->tf-agents[reverb]) (2.1.5)\n",
            "Requirement already satisfied: pyasn1<0.7.0,>=0.4.6 in /home/user/research-project/lib/python3.10/site-packages (from pyasn1-modules>=0.2.1->google-auth<3,>=1.6.3->tensorboard<2.16,>=2.15->tensorflow~=2.15.0->tf-agents[reverb]) (0.6.0)\n",
            "Requirement already satisfied: oauthlib>=3.0.0 in /home/user/research-project/lib/python3.10/site-packages (from requests-oauthlib>=0.7.0->google-auth-oauthlib<2,>=0.5->tensorboard<2.16,>=2.15->tensorflow~=2.15.0->tf-agents[reverb]) (3.2.2)\n",
            "Installing collected packages: typing-extensions\n",
            "  Attempting uninstall: typing-extensions\n",
            "    Found existing installation: typing_extensions 4.6.0\n",
            "    Uninstalling typing_extensions-4.6.0:\n",
            "      Successfully uninstalled typing_extensions-4.6.0\n",
            "\u001b[31mERROR: pip's dependency resolver does not currently take into account all the packages that are installed. This behaviour is the source of the following dependency conflicts.\n",
            "ipython 8.24.0 requires typing-extensions>=4.6; python_version < \"3.12\", but you have typing-extensions 4.5.0 which is incompatible.\u001b[0m\u001b[31m\n",
            "\u001b[0mSuccessfully installed typing-extensions-4.5.0\n",
            "Requirement already satisfied: pyglet in /home/user/research-project/lib/python3.10/site-packages (2.0.15)\n",
            "Requirement already satisfied: tf-keras in /home/user/research-project/lib/python3.10/site-packages (2.15.0)\n"
          ]
        }
      ],
      "source": [
        "!pip install 'imageio==2.4.0'\n",
        "!pip install pyvirtualdisplay\n",
        "!pip install tf-agents[reverb]\n",
        "!pip install pyglet\n",
        "!pip install tf-keras"
      ]
    },
    {
      "cell_type": "code",
      "execution_count": 3,
      "metadata": {
        "id": "UX0aSKBCYmj2"
      },
      "outputs": [],
      "source": [
        "import os\n",
        "# Keep using keras-2 (tf-keras) rather than keras-3 (keras).\n",
        "os.environ['TF_USE_LEGACY_KERAS'] = '1'"
      ]
    },
    {
      "cell_type": "code",
      "execution_count": 4,
      "metadata": {
        "id": "sMitx5qSgJk1"
      },
      "outputs": [
        {
          "name": "stderr",
          "output_type": "stream",
          "text": [
            "2024-05-11 17:29:46.633738: I external/local_tsl/tsl/cuda/cudart_stub.cc:31] Could not find cuda drivers on your machine, GPU will not be used.\n",
            "2024-05-11 17:29:46.744542: E external/local_xla/xla/stream_executor/cuda/cuda_dnn.cc:9261] Unable to register cuDNN factory: Attempting to register factory for plugin cuDNN when one has already been registered\n",
            "2024-05-11 17:29:46.744589: E external/local_xla/xla/stream_executor/cuda/cuda_fft.cc:607] Unable to register cuFFT factory: Attempting to register factory for plugin cuFFT when one has already been registered\n",
            "2024-05-11 17:29:46.749524: E external/local_xla/xla/stream_executor/cuda/cuda_blas.cc:1515] Unable to register cuBLAS factory: Attempting to register factory for plugin cuBLAS when one has already been registered\n",
            "2024-05-11 17:29:46.768203: I external/local_tsl/tsl/cuda/cudart_stub.cc:31] Could not find cuda drivers on your machine, GPU will not be used.\n",
            "2024-05-11 17:29:46.769462: I tensorflow/core/platform/cpu_feature_guard.cc:182] This TensorFlow binary is optimized to use available CPU instructions in performance-critical operations.\n",
            "To enable the following instructions: AVX2 FMA, in other operations, rebuild TensorFlow with the appropriate compiler flags.\n",
            "2024-05-11 17:29:49.932708: W tensorflow/compiler/tf2tensorrt/utils/py_utils.cc:38] TF-TRT Warning: Could not find TensorRT\n"
          ]
        }
      ],
      "source": [
        "from __future__ import absolute_import, division, print_function\n",
        "\n",
        "import base64\n",
        "import imageio\n",
        "import IPython\n",
        "import matplotlib\n",
        "import matplotlib.pyplot as plt\n",
        "import numpy as np\n",
        "import PIL.Image\n",
        "import pyvirtualdisplay\n",
        "import reverb\n",
        "\n",
        "import tensorflow as tf\n",
        "\n",
        "from tf_agents.agents.dqn import dqn_agent\n",
        "from tf_agents.drivers import py_driver\n",
        "from tf_agents.environments import suite_gym\n",
        "from tf_agents.environments import tf_py_environment\n",
        "from tf_agents.eval import metric_utils\n",
        "from tf_agents.metrics import tf_metrics\n",
        "from tf_agents.networks import sequential\n",
        "from tf_agents.policies import py_tf_eager_policy\n",
        "from tf_agents.policies import random_tf_policy\n",
        "from tf_agents.replay_buffers import reverb_replay_buffer\n",
        "from tf_agents.replay_buffers import reverb_utils\n",
        "from tf_agents.trajectories import trajectory\n",
        "from tf_agents.specs import tensor_spec\n",
        "from tf_agents.utils import common"
      ]
    },
    {
      "cell_type": "code",
      "execution_count": 5,
      "metadata": {
        "id": "J6HsdS5GbSjd"
      },
      "outputs": [],
      "source": [
        "# Set up a virtual display for rendering OpenAI gym environments.\n",
        "os.environ['PYVIRTUALDISPLAY_DISPLAYFD'] = '0'\n",
        "display = pyvirtualdisplay.Display(visible=0, size=(1400, 900)).start()"
      ]
    },
    {
      "cell_type": "code",
      "execution_count": 6,
      "metadata": {
        "id": "NspmzG4nP3b9"
      },
      "outputs": [
        {
          "data": {
            "text/plain": [
              "'2.15.0'"
            ]
          },
          "execution_count": 6,
          "metadata": {},
          "output_type": "execute_result"
        }
      ],
      "source": [
        "tf.version.VERSION"
      ]
    },
    {
      "cell_type": "markdown",
      "metadata": {
        "id": "LmC0NDhdLIKY"
      },
      "source": [
        "## Hyperparameters"
      ]
    },
    {
      "cell_type": "code",
      "execution_count": 7,
      "metadata": {
        "id": "HC1kNrOsLSIZ"
      },
      "outputs": [],
      "source": [
        "num_iterations = 20000 # @param {type:\"integer\"}\n",
        "\n",
        "initial_collect_steps = 100  # @param {type:\"integer\"}\n",
        "collect_steps_per_iteration =   1# @param {type:\"integer\"}\n",
        "replay_buffer_max_length = 100000  # @param {type:\"integer\"}\n",
        "\n",
        "batch_size = 64  # @param {type:\"integer\"}\n",
        "learning_rate = 1e-3  # @param {type:\"number\"}\n",
        "log_interval = 200  # @param {type:\"integer\"}\n",
        "\n",
        "num_eval_episodes = 10  # @param {type:\"integer\"}\n",
        "eval_interval = 1000  # @param {type:\"integer\"}"
      ]
    },
    {
      "cell_type": "markdown",
      "metadata": {
        "id": "VMsJC3DEgI0x"
      },
      "source": [
        "## Environment\n",
        "\n",
        "In Reinforcement Learning (RL), an environment represents the task or problem to be solved. Standard environments can be created in TF-Agents using `tf_agents.environments` suites. TF-Agents has suites for loading environments from sources such as the OpenAI Gym, Atari, and DM Control.\n",
        "\n",
        "Load the CartPole environment from the OpenAI Gym suite."
      ]
    },
    {
      "cell_type": "code",
      "execution_count": 8,
      "metadata": {
        "id": "pYEz-S9gEv2-"
      },
      "outputs": [],
      "source": [
        "from __future__ import absolute_import\n",
        "from __future__ import division\n",
        "from __future__ import print_function\n",
        "import os\n",
        "# Keep using keras-2 (tf-keras) rather than keras-3 (keras).\n",
        "os.environ['TF_USE_LEGACY_KERAS'] = '1'\n",
        "\n",
        "import abc\n",
        "import tensorflow as tf\n",
        "import tensorflow_probability as tfp\n",
        "import numpy as np\n",
        "\n",
        "from tf_agents.environments import py_environment\n",
        "from tf_agents.environments import tf_environment\n",
        "from tf_agents.environments import tf_py_environment\n",
        "from tf_agents.environments import utils\n",
        "from tf_agents.specs import array_spec\n",
        "from tf_agents.environments import wrappers\n",
        "from tf_agents.environments import suite_gym\n",
        "from tf_agents.trajectories import time_step as ts\n",
        "\n",
        "def bincount(fidelity, gamma, threshold):\n",
        "    return ((-1 / gamma) * np.log((threshold - 1/4)/(fidelity - 1/4))).astype(int)\n",
        "\n",
        "\n",
        "class discrete_environment(py_environment.PyEnvironment):\n",
        "\n",
        "    def __init__(self, actions, gamma, threshold, links):\n",
        "        self.links = links\n",
        "        self.actions = [[action[0],bincount(action[1], gamma, threshold)] for action in actions]\n",
        "        self._action_spec = array_spec.BoundedArraySpec(\n",
        "            shape=(), dtype=np.int32, minimum=0, maximum=len(actions) - 1, name='action')\n",
        "        self._observation_spec = array_spec.BoundedArraySpec(\n",
        "            shape=(links,), dtype=np.int32, minimum=0, maximum=max(action[1] for action in self.actions), name='observation')\n",
        "        self.state = np.repeat(0, links).astype(np.int32)\n",
        "        self.state = np.array(self.state, dtype=np.int32)\n",
        "\n",
        "    def action_spec(self):\n",
        "        return self._action_spec\n",
        "\n",
        "    def observation_spec(self):\n",
        "        return self._observation_spec\n",
        "\n",
        "    def _reset(self):\n",
        "        self.state = np.repeat(0, self.links)\n",
        "        return ts.restart(np.array(self.state, dtype=np.int32))\n",
        "\n",
        "    def _step(self, action):\n",
        "        if action not in range(len(self.actions)):\n",
        "            raise ValueError(f'`action` should be in [0, {len(self.actions) - 1}]')\n",
        "\n",
        "        for i, val in enumerate(self.state):\n",
        "            if val != 0:\n",
        "                self.state[i] -= 1\n",
        "        for i, val in enumerate(self.state):\n",
        "            if val == 0:\n",
        "                self.state[i] = self.actions[action][1] * np.random.binomial(1, self.actions[action][0])\n",
        "                self.state = self.state.astype(dtype=np.int32, copy=False)\n",
        "                break\n",
        "        for i, val in enumerate(self.state):\n",
        "            if val == 0:\n",
        "                return ts.transition(self.state, reward = -1.0, discount = 1.0)\n",
        "        return ts.termination(self.state, reward=-1)"
      ]
    },
    {
      "cell_type": "markdown",
      "metadata": {
        "id": "IIHYVBkuvPNw"
      },
      "source": [
        "You can render this environment to see how it looks. A free-swinging pole is attached to a cart.  The goal is to move the cart right or left in order to keep the pole pointing up."
      ]
    },
    {
      "cell_type": "code",
      "execution_count": 10,
      "metadata": {
        "id": "RlO7WIQHu_7D"
      },
      "outputs": [
        {
          "data": {
            "text/plain": [
              "TimeStep(\n",
              "{'step_type': array(0, dtype=int32),\n",
              " 'reward': array(0., dtype=float32),\n",
              " 'discount': array(1., dtype=float32),\n",
              " 'observation': array([0, 0], dtype=int32)})"
            ]
          },
          "execution_count": 10,
          "metadata": {},
          "output_type": "execute_result"
        }
      ],
      "source": [
        "#@test {\"skip\": true}\n",
        "env = discrete_environment([(0.3,0.7),(0.6,0.5)], 0.1, 0.3, 2)\n",
        "env.reset()"
      ]
    },
    {
      "cell_type": "markdown",
      "metadata": {
        "id": "B9_lskPOey18"
      },
      "source": [
        "The `environment.step` method takes an `action` in the environment and returns a `TimeStep` tuple containing the next observation of the environment and the reward for the action.\n",
        "\n",
        "The `time_step_spec()` method returns the specification for the `TimeStep` tuple. Its `observation` attribute shows the shape of observations, the data types, and the ranges of allowed values. The `reward` attribute shows the same details for the reward.\n"
      ]
    },
    {
      "cell_type": "code",
      "execution_count": 11,
      "metadata": {
        "id": "exDv57iHfwQV"
      },
      "outputs": [
        {
          "name": "stdout",
          "output_type": "stream",
          "text": [
            "Observation Spec:\n",
            "BoundedArraySpec(shape=(2,), dtype=dtype('int32'), name='observation', minimum=0, maximum=21)\n"
          ]
        }
      ],
      "source": [
        "print('Observation Spec:')\n",
        "print(env.time_step_spec().observation)"
      ]
    },
    {
      "cell_type": "code",
      "execution_count": 12,
      "metadata": {
        "id": "UxiSyCbBUQPi"
      },
      "outputs": [
        {
          "name": "stdout",
          "output_type": "stream",
          "text": [
            "Reward Spec:\n",
            "ArraySpec(shape=(), dtype=dtype('float32'), name='reward')\n"
          ]
        }
      ],
      "source": [
        "print('Reward Spec:')\n",
        "print(env.time_step_spec().reward)"
      ]
    },
    {
      "cell_type": "markdown",
      "metadata": {
        "id": "b_lHcIcqUaqB"
      },
      "source": [
        "The `action_spec()` method returns the shape, data types, and allowed values of valid actions."
      ]
    },
    {
      "cell_type": "code",
      "execution_count": 13,
      "metadata": {
        "id": "bttJ4uxZUQBr"
      },
      "outputs": [
        {
          "name": "stdout",
          "output_type": "stream",
          "text": [
            "Action Spec:\n",
            "BoundedArraySpec(shape=(), dtype=dtype('int32'), name='action', minimum=0, maximum=1)\n"
          ]
        }
      ],
      "source": [
        "print('Action Spec:')\n",
        "print(env.action_spec())"
      ]
    },
    {
      "cell_type": "markdown",
      "metadata": {
        "id": "eJCgJnx3g0yY"
      },
      "source": [
        "In the Cartpole environment:\n",
        "\n",
        "-   `observation` is an array of 4 floats:\n",
        "    -   the position and velocity of the cart\n",
        "    -   the angular position and velocity of the pole\n",
        "-   `reward` is a scalar float value\n",
        "-   `action` is a scalar integer with only two possible values:\n",
        "    -   `0` — \"move left\"\n",
        "    -   `1` — \"move right\"\n"
      ]
    },
    {
      "cell_type": "code",
      "execution_count": 14,
      "metadata": {
        "id": "V2UGR5t_iZX-"
      },
      "outputs": [
        {
          "name": "stdout",
          "output_type": "stream",
          "text": [
            "Time step:\n",
            "TimeStep(\n",
            "{'step_type': array(0, dtype=int32),\n",
            " 'reward': array(0., dtype=float32),\n",
            " 'discount': array(1., dtype=float32),\n",
            " 'observation': array([0, 0], dtype=int32)})\n",
            "Next time step:\n",
            "TimeStep(\n",
            "{'step_type': array(1, dtype=int32),\n",
            " 'reward': array(-1., dtype=float32),\n",
            " 'discount': array(1., dtype=float32),\n",
            " 'observation': array([16,  0], dtype=int32)})\n"
          ]
        }
      ],
      "source": [
        "time_step = env.reset()\n",
        "print('Time step:')\n",
        "print(time_step)\n",
        "\n",
        "action = np.array(1, dtype=np.int32)\n",
        "\n",
        "next_time_step = env.step(action)\n",
        "print('Next time step:')\n",
        "print(next_time_step)"
      ]
    },
    {
      "cell_type": "markdown",
      "metadata": {
        "id": "4JSc9GviWUBK"
      },
      "source": [
        "Usually two environments are instantiated: one for training and one for evaluation."
      ]
    },
    {
      "cell_type": "code",
      "execution_count": 15,
      "metadata": {
        "id": "N7brXNIGWXjC"
      },
      "outputs": [],
      "source": [
        "train_py_env = discrete_environment([(0.3,0.7),(0.6,0.5)], 0.1, 0.3, 2)\n",
        "eval_py_env = discrete_environment([(0.3,0.7),(0.6,0.5)], 0.1, 0.3, 2)"
      ]
    },
    {
      "cell_type": "markdown",
      "metadata": {
        "id": "zuUqXAVmecTU"
      },
      "source": [
        "The Cartpole environment, like most environments, is written in pure Python. This is converted to TensorFlow using the `TFPyEnvironment` wrapper.\n",
        "\n",
        "The original environment's API uses Numpy arrays. The `TFPyEnvironment` converts these to `Tensors` to make it compatible with Tensorflow agents and policies.\n"
      ]
    },
    {
      "cell_type": "code",
      "execution_count": 16,
      "metadata": {
        "id": "Xp-Y4mD6eDhF"
      },
      "outputs": [],
      "source": [
        "train_env = tf_py_environment.TFPyEnvironment(train_py_env)\n",
        "eval_env = tf_py_environment.TFPyEnvironment(eval_py_env)"
      ]
    },
    {
      "cell_type": "markdown",
      "metadata": {
        "id": "E9lW_OZYFR8A"
      },
      "source": [
        "## Agent\n",
        "\n",
        "The algorithm used to solve an RL problem is represented by an `Agent`. TF-Agents provides standard implementations of a variety of `Agents`, including:\n",
        "\n",
        "-   [DQN](https://storage.googleapis.com/deepmind-media/dqn/DQNNaturePaper.pdf) (used in this tutorial)\n",
        "-   [REINFORCE](https://www-anw.cs.umass.edu/~barto/courses/cs687/williams92simple.pdf)\n",
        "-   [DDPG](https://arxiv.org/pdf/1509.02971.pdf)\n",
        "-   [TD3](https://arxiv.org/pdf/1802.09477.pdf)\n",
        "-   [PPO](https://arxiv.org/abs/1707.06347)\n",
        "-   [SAC](https://arxiv.org/abs/1801.01290)\n",
        "\n",
        "The DQN agent can be used in any environment which has a discrete action space.\n",
        "\n",
        "At the heart of a DQN Agent is a `QNetwork`, a neural network model that can learn to predict `QValues` (expected returns) for all actions, given an observation from the environment.\n",
        "\n",
        "We will use `tf_agents.networks.` to create a `QNetwork`. The network will consist of a sequence of `tf.keras.layers.Dense` layers, where the final layer will have 1 output for each possible action."
      ]
    },
    {
      "cell_type": "code",
      "execution_count": 17,
      "metadata": {
        "id": "TgkdEPg_muzV"
      },
      "outputs": [],
      "source": [
        "fc_layer_params = (100, 50)\n",
        "action_tensor_spec = tensor_spec.from_spec(env.action_spec())\n",
        "num_actions = action_tensor_spec.maximum - action_tensor_spec.minimum + 1\n",
        "\n",
        "# Define a helper function to create Dense layers configured with the right\n",
        "# activation and kernel initializer.\n",
        "def dense_layer(num_units):\n",
        "  return tf.keras.layers.Dense(\n",
        "      num_units,\n",
        "      activation=tf.keras.activations.relu,\n",
        "      kernel_initializer=tf.keras.initializers.VarianceScaling(\n",
        "          scale=2.0, mode='fan_in', distribution='truncated_normal'))\n",
        "\n",
        "# QNetwork consists of a sequence of Dense layers followed by a dense layer\n",
        "# with `num_actions` units to generate one q_value per available action as\n",
        "# its output.\n",
        "dense_layers = [dense_layer(num_units) for num_units in fc_layer_params]\n",
        "q_values_layer = tf.keras.layers.Dense(\n",
        "    num_actions,\n",
        "    activation=None,\n",
        "    kernel_initializer=tf.keras.initializers.RandomUniform(\n",
        "        minval=-0.03, maxval=0.03),\n",
        "    bias_initializer=tf.keras.initializers.Constant(-0.2))\n",
        "q_net = sequential.Sequential(dense_layers + [q_values_layer])"
      ]
    },
    {
      "cell_type": "markdown",
      "metadata": {
        "id": "z62u55hSmviJ"
      },
      "source": [
        "Now use `tf_agents.agents.dqn.dqn_agent` to instantiate a `DqnAgent`. In addition to the `time_step_spec`, `action_spec` and the QNetwork, the agent constructor also requires an optimizer (in this case, `AdamOptimizer`), a loss function, and an integer step counter."
      ]
    },
    {
      "cell_type": "code",
      "execution_count": 18,
      "metadata": {
        "id": "jbY4yrjTEyc9"
      },
      "outputs": [
        {
          "name": "stderr",
          "output_type": "stream",
          "text": [
            "2024-05-11 17:31:14.936633: I external/local_xla/xla/stream_executor/cuda/cuda_executor.cc:887] could not open file to read NUMA node: /sys/bus/pci/devices/0000:01:00.0/numa_node\n",
            "Your kernel may have been built without NUMA support.\n",
            "2024-05-11 17:31:14.937185: W tensorflow/core/common_runtime/gpu/gpu_device.cc:2256] Cannot dlopen some GPU libraries. Please make sure the missing libraries mentioned above are installed properly if you would like to use GPU. Follow the guide at https://www.tensorflow.org/install/gpu for how to download and setup the required libraries for your platform.\n",
            "Skipping registering GPU devices...\n"
          ]
        }
      ],
      "source": [
        "optimizer = tf.keras.optimizers.Adam(learning_rate=learning_rate)\n",
        "\n",
        "train_step_counter = tf.Variable(0)\n",
        "\n",
        "agent = dqn_agent.DqnAgent(\n",
        "    train_env.time_step_spec(),\n",
        "    train_env.action_spec(),\n",
        "    q_network=q_net,\n",
        "    optimizer=optimizer,\n",
        "    td_errors_loss_fn=common.element_wise_squared_loss,\n",
        "    train_step_counter=train_step_counter)\n",
        "\n",
        "agent.initialize()"
      ]
    },
    {
      "cell_type": "markdown",
      "metadata": {
        "id": "I0KLrEPwkn5x"
      },
      "source": [
        "## Policies\n",
        "\n",
        "A policy defines the way an agent acts in an environment. Typically, the goal of reinforcement learning is to train the underlying model until the policy produces the desired outcome.\n",
        "\n",
        "In this tutorial:\n",
        "\n",
        "-   The desired outcome is keeping the pole balanced upright over the cart.\n",
        "-   The policy returns an action (left or right) for each `time_step` observation.\n",
        "\n",
        "Agents contain two policies:\n",
        "\n",
        "-   `agent.policy` — The main policy that is used for evaluation and deployment.\n",
        "-   `agent.collect_policy` — A second policy that is used for data collection.\n"
      ]
    },
    {
      "cell_type": "code",
      "execution_count": 19,
      "metadata": {
        "id": "BwY7StuMkuV4"
      },
      "outputs": [],
      "source": [
        "eval_policy = agent.policy\n",
        "collect_policy = agent.collect_policy"
      ]
    },
    {
      "cell_type": "markdown",
      "metadata": {
        "id": "2Qs1Fl3dV0ae"
      },
      "source": [
        "Policies can be created independently of agents. For example, use `tf_agents.policies.random_tf_policy` to create a policy which will randomly select an action for each `time_step`."
      ]
    },
    {
      "cell_type": "code",
      "execution_count": 20,
      "metadata": {
        "id": "HE37-UCIrE69"
      },
      "outputs": [],
      "source": [
        "random_policy = random_tf_policy.RandomTFPolicy(train_env.time_step_spec(),\n",
        "                                                train_env.action_spec())"
      ]
    },
    {
      "cell_type": "markdown",
      "metadata": {
        "id": "dOlnlRRsUbxP"
      },
      "source": [
        "To get an action from a policy, call the `policy.action(time_step)` method. The `time_step` contains the observation from the environment. This method returns a `PolicyStep`, which is a named tuple with three components:\n",
        "\n",
        "-   `action` — the action to be taken (in this case, `0` or `1`)\n",
        "-   `state` — used for stateful (that is, RNN-based) policies\n",
        "-   `info` — auxiliary data, such as log probabilities of actions"
      ]
    },
    {
      "cell_type": "code",
      "execution_count": 21,
      "metadata": {
        "id": "5gCcpXswVAxk"
      },
      "outputs": [],
      "source": [
        "example_environment = tf_py_environment.TFPyEnvironment(\n",
        "    suite_gym.load('CartPole-v0'))"
      ]
    },
    {
      "cell_type": "code",
      "execution_count": 22,
      "metadata": {
        "id": "D4DHZtq3Ndis"
      },
      "outputs": [],
      "source": [
        "time_step = example_environment.reset()"
      ]
    },
    {
      "cell_type": "code",
      "execution_count": 23,
      "metadata": {
        "id": "PRFqAUzpNaAW"
      },
      "outputs": [
        {
          "name": "stderr",
          "output_type": "stream",
          "text": [
            "/home/user/research-project/lib/python3.10/site-packages/tf_agents/policies/tf_policy.py:258: SyntaxWarning: \"is\" with a literal. Did you mean \"==\"?\n",
            "  if policy_state is ():  # pylint: disable=literal-comparison\n",
            "/home/user/research-project/lib/python3.10/site-packages/tf_agents/policies/tf_policy.py:258: SyntaxWarning: \"is\" with a literal. Did you mean \"==\"?\n",
            "  if policy_state is ():  # pylint: disable=literal-comparison\n",
            "/home/user/research-project/lib/python3.10/site-packages/tf_agents/utils/common.py:1539: SyntaxWarning: \"is not\" with a literal. Did you mean \"!=\"?\n",
            "  return state is not None and state is not () and state is not []\n",
            "/home/user/research-project/lib/python3.10/site-packages/tf_agents/utils/common.py:1539: SyntaxWarning: \"is not\" with a literal. Did you mean \"!=\"?\n",
            "  return state is not None and state is not () and state is not []\n"
          ]
        },
        {
          "ename": "ValueError",
          "evalue": "Received a mix of batched and unbatched Tensors, or Tensors are not compatible with Specs.  num_outer_dims: 1.\nSaw tensor_shapes:\n   TimeStep(\n{'step_type': TensorShape([1]),\n 'reward': TensorShape([1]),\n 'discount': TensorShape([1]),\n 'observation': TensorShape([1, 4])})\nAnd spec_shapes:\n   TimeStep(\n{'step_type': TensorShape([]),\n 'reward': TensorShape([]),\n 'discount': TensorShape([]),\n 'observation': TensorShape([2])})",
          "output_type": "error",
          "traceback": [
            "\u001b[0;31m---------------------------------------------------------------------------\u001b[0m",
            "\u001b[0;31mValueError\u001b[0m                                Traceback (most recent call last)",
            "Cell \u001b[0;32mIn[23], line 1\u001b[0m\n\u001b[0;32m----> 1\u001b[0m \u001b[43mrandom_policy\u001b[49m\u001b[38;5;241;43m.\u001b[39;49m\u001b[43maction\u001b[49m\u001b[43m(\u001b[49m\u001b[43mtime_step\u001b[49m\u001b[43m)\u001b[49m\n",
            "File \u001b[0;32m~/research-project/lib/python3.10/site-packages/tf_agents/policies/tf_policy.py:333\u001b[0m, in \u001b[0;36mTFPolicy.action\u001b[0;34m(self, time_step, policy_state, seed)\u001b[0m\n\u001b[1;32m    331\u001b[0m \u001b[38;5;28;01mif\u001b[39;00m \u001b[38;5;28mself\u001b[39m\u001b[38;5;241m.\u001b[39m_automatic_state_reset:\n\u001b[1;32m    332\u001b[0m   policy_state \u001b[38;5;241m=\u001b[39m \u001b[38;5;28mself\u001b[39m\u001b[38;5;241m.\u001b[39m_maybe_reset_state(time_step, policy_state)\n\u001b[0;32m--> 333\u001b[0m step \u001b[38;5;241m=\u001b[39m \u001b[43maction_fn\u001b[49m\u001b[43m(\u001b[49m\u001b[43mtime_step\u001b[49m\u001b[38;5;241;43m=\u001b[39;49m\u001b[43mtime_step\u001b[49m\u001b[43m,\u001b[49m\u001b[43m \u001b[49m\u001b[43mpolicy_state\u001b[49m\u001b[38;5;241;43m=\u001b[39;49m\u001b[43mpolicy_state\u001b[49m\u001b[43m,\u001b[49m\u001b[43m \u001b[49m\u001b[43mseed\u001b[49m\u001b[38;5;241;43m=\u001b[39;49m\u001b[43mseed\u001b[49m\u001b[43m)\u001b[49m\n\u001b[1;32m    335\u001b[0m \u001b[38;5;28;01mdef\u001b[39;00m \u001b[38;5;21mclip_action\u001b[39m(action, action_spec):\n\u001b[1;32m    336\u001b[0m   \u001b[38;5;28;01mif\u001b[39;00m \u001b[38;5;28misinstance\u001b[39m(action_spec, tensor_spec\u001b[38;5;241m.\u001b[39mBoundedTensorSpec):\n",
            "File \u001b[0;32m~/research-project/lib/python3.10/site-packages/tf_agents/utils/common.py:193\u001b[0m, in \u001b[0;36mfunction_in_tf1.<locals>.maybe_wrap.<locals>.with_check_resource_vars\u001b[0;34m(*fn_args, **fn_kwargs)\u001b[0m\n\u001b[1;32m    189\u001b[0m check_tf1_allowed()\n\u001b[1;32m    190\u001b[0m \u001b[38;5;28;01mif\u001b[39;00m has_eager_been_enabled():\n\u001b[1;32m    191\u001b[0m   \u001b[38;5;66;03m# We're either in eager mode or in tf.function mode (no in-between); so\u001b[39;00m\n\u001b[1;32m    192\u001b[0m   \u001b[38;5;66;03m# autodep-like behavior is already expected of fn.\u001b[39;00m\n\u001b[0;32m--> 193\u001b[0m   \u001b[38;5;28;01mreturn\u001b[39;00m \u001b[43mfn\u001b[49m\u001b[43m(\u001b[49m\u001b[38;5;241;43m*\u001b[39;49m\u001b[43mfn_args\u001b[49m\u001b[43m,\u001b[49m\u001b[43m \u001b[49m\u001b[38;5;241;43m*\u001b[39;49m\u001b[38;5;241;43m*\u001b[39;49m\u001b[43mfn_kwargs\u001b[49m\u001b[43m)\u001b[49m\n\u001b[1;32m    194\u001b[0m \u001b[38;5;28;01mif\u001b[39;00m \u001b[38;5;129;01mnot\u001b[39;00m resource_variables_enabled():\n\u001b[1;32m    195\u001b[0m   \u001b[38;5;28;01mraise\u001b[39;00m \u001b[38;5;167;01mRuntimeError\u001b[39;00m(MISSING_RESOURCE_VARIABLES_ERROR)\n",
            "File \u001b[0;32m~/research-project/lib/python3.10/site-packages/tf_agents/policies/random_tf_policy.py:142\u001b[0m, in \u001b[0;36mRandomTFPolicy._action\u001b[0;34m(self, time_step, policy_state, seed)\u001b[0m\n\u001b[1;32m    137\u001b[0m \u001b[38;5;28;01mdef\u001b[39;00m \u001b[38;5;21m_action\u001b[39m(\u001b[38;5;28mself\u001b[39m, time_step, policy_state, seed):  \u001b[38;5;66;03m# pytype: disable=signature-mismatch  # overriding-parameter-count-checks\u001b[39;00m\n\u001b[1;32m    138\u001b[0m   observation_and_action_constraint_splitter \u001b[38;5;241m=\u001b[39m (\n\u001b[1;32m    139\u001b[0m       \u001b[38;5;28mself\u001b[39m\u001b[38;5;241m.\u001b[39mobservation_and_action_constraint_splitter\n\u001b[1;32m    140\u001b[0m   )\n\u001b[0;32m--> 142\u001b[0m   outer_dims \u001b[38;5;241m=\u001b[39m \u001b[43mnest_utils\u001b[49m\u001b[38;5;241;43m.\u001b[39;49m\u001b[43mget_outer_shape\u001b[49m\u001b[43m(\u001b[49m\u001b[43mtime_step\u001b[49m\u001b[43m,\u001b[49m\u001b[43m \u001b[49m\u001b[38;5;28;43mself\u001b[39;49m\u001b[38;5;241;43m.\u001b[39;49m\u001b[43m_time_step_spec\u001b[49m\u001b[43m)\u001b[49m\n\u001b[1;32m    143\u001b[0m   \u001b[38;5;28;01mif\u001b[39;00m observation_and_action_constraint_splitter \u001b[38;5;129;01mis\u001b[39;00m \u001b[38;5;129;01mnot\u001b[39;00m \u001b[38;5;28;01mNone\u001b[39;00m:\n\u001b[1;32m    144\u001b[0m     observation, mask \u001b[38;5;241m=\u001b[39m observation_and_action_constraint_splitter(\n\u001b[1;32m    145\u001b[0m         time_step\u001b[38;5;241m.\u001b[39mobservation\n\u001b[1;32m    146\u001b[0m     )\n",
            "File \u001b[0;32m~/research-project/lib/python3.10/site-packages/tf_agents/utils/nest_utils.py:903\u001b[0m, in \u001b[0;36mget_outer_shape\u001b[0;34m(nested_tensor, spec)\u001b[0m\n\u001b[1;32m    901\u001b[0m \u001b[38;5;66;03m# Check tensors have same batch shape.\u001b[39;00m\n\u001b[1;32m    902\u001b[0m num_outer_dims \u001b[38;5;241m=\u001b[39m \u001b[38;5;28mlen\u001b[39m(first_tensor\u001b[38;5;241m.\u001b[39mshape) \u001b[38;5;241m-\u001b[39m \u001b[38;5;28mlen\u001b[39m(first_spec\u001b[38;5;241m.\u001b[39mshape)\n\u001b[0;32m--> 903\u001b[0m \u001b[38;5;28;01mif\u001b[39;00m \u001b[38;5;129;01mnot\u001b[39;00m \u001b[43mis_batched_nested_tensors\u001b[49m\u001b[43m(\u001b[49m\n\u001b[1;32m    904\u001b[0m \u001b[43m    \u001b[49m\u001b[43mnested_tensor\u001b[49m\u001b[43m,\u001b[49m\u001b[43m \u001b[49m\u001b[43mspec\u001b[49m\u001b[43m,\u001b[49m\u001b[43m \u001b[49m\u001b[43mnum_outer_dims\u001b[49m\u001b[38;5;241;43m=\u001b[39;49m\u001b[43mnum_outer_dims\u001b[49m\u001b[43m,\u001b[49m\u001b[43m \u001b[49m\u001b[43mcheck_dtypes\u001b[49m\u001b[38;5;241;43m=\u001b[39;49m\u001b[38;5;28;43;01mFalse\u001b[39;49;00m\n\u001b[1;32m    905\u001b[0m \u001b[43m\u001b[49m\u001b[43m)\u001b[49m:\n\u001b[1;32m    906\u001b[0m   \u001b[38;5;28;01mreturn\u001b[39;00m tf\u001b[38;5;241m.\u001b[39mconstant([], dtype\u001b[38;5;241m=\u001b[39mtf\u001b[38;5;241m.\u001b[39mint32)\n\u001b[1;32m    908\u001b[0m \u001b[38;5;28;01mreturn\u001b[39;00m tf\u001b[38;5;241m.\u001b[39mshape(\u001b[38;5;28minput\u001b[39m\u001b[38;5;241m=\u001b[39mfirst_tensor)[:num_outer_dims]\n",
            "File \u001b[0;32m~/research-project/lib/python3.10/site-packages/tf_agents/utils/nest_utils.py:598\u001b[0m, in \u001b[0;36mis_batched_nested_tensors\u001b[0;34m(tensors, specs, num_outer_dims, allow_extra_fields, check_dtypes)\u001b[0m\n\u001b[1;32m    592\u001b[0m \u001b[38;5;28;01mif\u001b[39;00m \u001b[38;5;28mall\u001b[39m(\n\u001b[1;32m    593\u001b[0m     discrepancy \u001b[38;5;241m==\u001b[39m tensor_ndims_discrepancy[\u001b[38;5;241m0\u001b[39m]\n\u001b[1;32m    594\u001b[0m     \u001b[38;5;28;01mfor\u001b[39;00m discrepancy \u001b[38;5;129;01min\u001b[39;00m tensor_ndims_discrepancy\n\u001b[1;32m    595\u001b[0m ) \u001b[38;5;129;01mand\u001b[39;00m \u001b[38;5;28mall\u001b[39m(tensor_matches_spec):\n\u001b[1;32m    596\u001b[0m   \u001b[38;5;28;01mreturn\u001b[39;00m \u001b[38;5;28;01mFalse\u001b[39;00m\n\u001b[0;32m--> 598\u001b[0m \u001b[38;5;28;01mraise\u001b[39;00m \u001b[38;5;167;01mValueError\u001b[39;00m(\n\u001b[1;32m    599\u001b[0m     \u001b[38;5;124m'\u001b[39m\u001b[38;5;124mReceived a mix of batched and unbatched Tensors, or Tensors\u001b[39m\u001b[38;5;124m'\u001b[39m\n\u001b[1;32m    600\u001b[0m     \u001b[38;5;124m'\u001b[39m\u001b[38;5;124m are not compatible with Specs.  num_outer_dims: \u001b[39m\u001b[38;5;132;01m%d\u001b[39;00m\u001b[38;5;124m.\u001b[39m\u001b[38;5;130;01m\\n\u001b[39;00m\u001b[38;5;124m'\u001b[39m\n\u001b[1;32m    601\u001b[0m     \u001b[38;5;124m'\u001b[39m\u001b[38;5;124mSaw tensor_shapes:\u001b[39m\u001b[38;5;130;01m\\n\u001b[39;00m\u001b[38;5;124m   \u001b[39m\u001b[38;5;132;01m%s\u001b[39;00m\u001b[38;5;130;01m\\n\u001b[39;00m\u001b[38;5;124m'\u001b[39m\n\u001b[1;32m    602\u001b[0m     \u001b[38;5;124m'\u001b[39m\u001b[38;5;124mAnd spec_shapes:\u001b[39m\u001b[38;5;130;01m\\n\u001b[39;00m\u001b[38;5;124m   \u001b[39m\u001b[38;5;132;01m%s\u001b[39;00m\u001b[38;5;124m'\u001b[39m\n\u001b[1;32m    603\u001b[0m     \u001b[38;5;241m%\u001b[39m (\n\u001b[1;32m    604\u001b[0m         num_outer_dims,\n\u001b[1;32m    605\u001b[0m         tf\u001b[38;5;241m.\u001b[39mnest\u001b[38;5;241m.\u001b[39mpack_sequence_as(specs, tensor_shapes),\n\u001b[1;32m    606\u001b[0m         tf\u001b[38;5;241m.\u001b[39mnest\u001b[38;5;241m.\u001b[39mpack_sequence_as(specs, spec_shapes),\n\u001b[1;32m    607\u001b[0m     )\n\u001b[1;32m    608\u001b[0m )\n",
            "\u001b[0;31mValueError\u001b[0m: Received a mix of batched and unbatched Tensors, or Tensors are not compatible with Specs.  num_outer_dims: 1.\nSaw tensor_shapes:\n   TimeStep(\n{'step_type': TensorShape([1]),\n 'reward': TensorShape([1]),\n 'discount': TensorShape([1]),\n 'observation': TensorShape([1, 4])})\nAnd spec_shapes:\n   TimeStep(\n{'step_type': TensorShape([]),\n 'reward': TensorShape([]),\n 'discount': TensorShape([]),\n 'observation': TensorShape([2])})"
          ]
        }
      ],
      "source": [
        "random_policy.action(time_step)"
      ]
    },
    {
      "cell_type": "markdown",
      "metadata": {
        "id": "94rCXQtbUbXv"
      },
      "source": [
        "## Metrics and Evaluation\n",
        "\n",
        "The most common metric used to evaluate a policy is the average return. The return is the sum of rewards obtained while running a policy in an environment for an episode. Several episodes are run, creating an average return.\n",
        "\n",
        "The following function computes the average return of a policy, given the policy, environment, and a number of episodes.\n"
      ]
    },
    {
      "cell_type": "code",
      "execution_count": 24,
      "metadata": {
        "id": "bitzHo5_UbXy"
      },
      "outputs": [],
      "source": [
        "#@test {\"skip\": true}\n",
        "def compute_avg_return(environment, policy, num_episodes=10):\n",
        "\n",
        "  total_return = 0.0\n",
        "  for _ in range(num_episodes):\n",
        "\n",
        "    time_step = environment.reset()\n",
        "    episode_return = 0.0\n",
        "\n",
        "    while not time_step.is_last():\n",
        "      action_step = policy.action(time_step)\n",
        "      time_step = environment.step(action_step.action)\n",
        "      episode_return += time_step.reward\n",
        "    total_return += episode_return\n",
        "\n",
        "  avg_return = total_return / num_episodes\n",
        "  return avg_return.numpy()[0]\n",
        "\n",
        "\n",
        "# See also the metrics module for standard implementations of different metrics.\n",
        "# https://github.com/tensorflow/agents/tree/master/tf_agents/metrics"
      ]
    },
    {
      "cell_type": "markdown",
      "metadata": {
        "id": "_snCVvq5Z8lJ"
      },
      "source": [
        "Running this computation on the `random_policy` shows a baseline performance in the environment."
      ]
    },
    {
      "cell_type": "code",
      "execution_count": 25,
      "metadata": {
        "id": "9bgU6Q6BZ8Bp"
      },
      "outputs": [
        {
          "data": {
            "text/plain": [
              "-4.1"
            ]
          },
          "execution_count": 25,
          "metadata": {},
          "output_type": "execute_result"
        }
      ],
      "source": [
        "compute_avg_return(eval_env, random_policy, num_eval_episodes)"
      ]
    },
    {
      "cell_type": "markdown",
      "metadata": {
        "id": "NLva6g2jdWgr"
      },
      "source": [
        "## Replay Buffer\n",
        "\n",
        "In order to keep track of the data collected from the environment, we will use [Reverb](https://deepmind.com/research/open-source/Reverb), an efficient, extensible, and easy-to-use replay system by Deepmind. It stores experience data when we collect trajectories and is consumed during training.\n",
        "\n",
        "This replay buffer is constructed using specs describing the tensors that are to be stored, which can be obtained from the agent using agent.collect_data_spec.\n"
      ]
    },
    {
      "cell_type": "code",
      "execution_count": 26,
      "metadata": {
        "id": "vX2zGUWJGWAl"
      },
      "outputs": [
        {
          "name": "stderr",
          "output_type": "stream",
          "text": [
            "[reverb/cc/platform/tfrecord_checkpointer.cc:162]  Initializing TFRecordCheckpointer in /tmp/tmpktmohlm_.\n",
            "[reverb/cc/platform/tfrecord_checkpointer.cc:565] Loading latest checkpoint from /tmp/tmpktmohlm_\n",
            "[reverb/cc/platform/default/server.cc:71] Started replay server on port 32965\n"
          ]
        }
      ],
      "source": [
        "table_name = 'uniform_table'\n",
        "replay_buffer_signature = tensor_spec.from_spec(\n",
        "      agent.collect_data_spec)\n",
        "replay_buffer_signature = tensor_spec.add_outer_dim(\n",
        "    replay_buffer_signature)\n",
        "\n",
        "table = reverb.Table(\n",
        "    table_name,\n",
        "    max_size=replay_buffer_max_length,\n",
        "    sampler=reverb.selectors.Uniform(),\n",
        "    remover=reverb.selectors.Fifo(),\n",
        "    rate_limiter=reverb.rate_limiters.MinSize(1),\n",
        "    signature=replay_buffer_signature)\n",
        "\n",
        "reverb_server = reverb.Server([table])\n",
        "\n",
        "replay_buffer = reverb_replay_buffer.ReverbReplayBuffer(\n",
        "    agent.collect_data_spec,\n",
        "    table_name=table_name,\n",
        "    sequence_length=2,\n",
        "    local_server=reverb_server)\n",
        "\n",
        "rb_observer = reverb_utils.ReverbAddTrajectoryObserver(\n",
        "  replay_buffer.py_client,\n",
        "  table_name,\n",
        "  sequence_length=2)"
      ]
    },
    {
      "cell_type": "markdown",
      "metadata": {
        "id": "ZGNTDJpZs4NN"
      },
      "source": [
        "For most agents, `collect_data_spec` is a named tuple called `Trajectory`, containing the specs for observations, actions, rewards, and other items."
      ]
    },
    {
      "cell_type": "code",
      "execution_count": 27,
      "metadata": {
        "id": "_IZ-3HcqgE1z"
      },
      "outputs": [
        {
          "data": {
            "text/plain": [
              "Trajectory(\n",
              "{'step_type': TensorSpec(shape=(), dtype=tf.int32, name='step_type'),\n",
              " 'observation': BoundedTensorSpec(shape=(2,), dtype=tf.int32, name='observation', minimum=array(0, dtype=int32), maximum=array(21, dtype=int32)),\n",
              " 'action': BoundedTensorSpec(shape=(), dtype=tf.int32, name='action', minimum=array(0, dtype=int32), maximum=array(1, dtype=int32)),\n",
              " 'policy_info': (),\n",
              " 'next_step_type': TensorSpec(shape=(), dtype=tf.int32, name='step_type'),\n",
              " 'reward': TensorSpec(shape=(), dtype=tf.float32, name='reward'),\n",
              " 'discount': BoundedTensorSpec(shape=(), dtype=tf.float32, name='discount', minimum=array(0., dtype=float32), maximum=array(1., dtype=float32))})"
            ]
          },
          "execution_count": 27,
          "metadata": {},
          "output_type": "execute_result"
        }
      ],
      "source": [
        "agent.collect_data_spec"
      ]
    },
    {
      "cell_type": "code",
      "execution_count": 28,
      "metadata": {
        "id": "sy6g1tGcfRlw"
      },
      "outputs": [
        {
          "data": {
            "text/plain": [
              "('step_type',\n",
              " 'observation',\n",
              " 'action',\n",
              " 'policy_info',\n",
              " 'next_step_type',\n",
              " 'reward',\n",
              " 'discount')"
            ]
          },
          "execution_count": 28,
          "metadata": {},
          "output_type": "execute_result"
        }
      ],
      "source": [
        "agent.collect_data_spec._fields"
      ]
    },
    {
      "cell_type": "markdown",
      "metadata": {
        "id": "rVD5nQ9ZGo8_"
      },
      "source": [
        "## Data Collection\n",
        "\n",
        "Now execute the random policy in the environment for a few steps, recording the data in the replay buffer.\n",
        "\n",
        "Here we are using 'PyDriver' to run the experience collecting loop. You can learn more about TF Agents driver in our [drivers tutorial](https://www.tensorflow.org/agents/tutorials/4_drivers_tutorial)."
      ]
    },
    {
      "cell_type": "code",
      "execution_count": 29,
      "metadata": {
        "id": "wr1KSAEGG4h9"
      },
      "outputs": [
        {
          "data": {
            "text/plain": [
              "(TimeStep(\n",
              " {'step_type': array(2, dtype=int32),\n",
              "  'reward': array(-1., dtype=float32),\n",
              "  'discount': array(0., dtype=float32),\n",
              "  'observation': array([17, 21], dtype=int32)}),\n",
              " ())"
            ]
          },
          "execution_count": 29,
          "metadata": {},
          "output_type": "execute_result"
        }
      ],
      "source": [
        "#@test {\"skip\": true}\n",
        "py_driver.PyDriver(\n",
        "    env,\n",
        "    py_tf_eager_policy.PyTFEagerPolicy(\n",
        "      random_policy, use_tf_function=True),\n",
        "    [rb_observer],\n",
        "    max_steps=initial_collect_steps).run(train_py_env.reset())"
      ]
    },
    {
      "cell_type": "markdown",
      "metadata": {
        "id": "84z5pQJdoKxo"
      },
      "source": [
        "The replay buffer is now a collection of Trajectories."
      ]
    },
    {
      "cell_type": "code",
      "execution_count": 29,
      "metadata": {
        "id": "4wZnLu2ViO4E"
      },
      "outputs": [],
      "source": [
        "# For the curious:\n",
        "# Uncomment to peel one of these off and inspect it.\n",
        "# iter(replay_buffer.as_dataset()).next()"
      ]
    },
    {
      "cell_type": "markdown",
      "metadata": {
        "id": "TujU-PMUsKjS"
      },
      "source": [
        "The agent needs access to the replay buffer. This is provided by creating an iterable `tf.data.Dataset` pipeline which will feed data to the agent.\n",
        "\n",
        "Each row of the replay buffer only stores a single observation step. But since the DQN Agent needs both the current and next observation to compute the loss, the dataset pipeline will sample two adjacent rows for each item in the batch (`num_steps=2`).\n",
        "\n",
        "This dataset is also optimized by running parallel calls and prefetching data."
      ]
    },
    {
      "cell_type": "code",
      "execution_count": 30,
      "metadata": {
        "id": "ba7bilizt_qW"
      },
      "outputs": [
        {
          "data": {
            "text/plain": [
              "<_PrefetchDataset element_spec=(Trajectory(\n",
              "{'step_type': TensorSpec(shape=(64, 2), dtype=tf.int32, name=None),\n",
              " 'observation': TensorSpec(shape=(64, 2, 2), dtype=tf.int32, name=None),\n",
              " 'action': TensorSpec(shape=(64, 2), dtype=tf.int32, name=None),\n",
              " 'policy_info': (),\n",
              " 'next_step_type': TensorSpec(shape=(64, 2), dtype=tf.int32, name=None),\n",
              " 'reward': TensorSpec(shape=(64, 2), dtype=tf.float32, name=None),\n",
              " 'discount': TensorSpec(shape=(64, 2), dtype=tf.float32, name=None)}), SampleInfo(key=TensorSpec(shape=(64, 2), dtype=tf.uint64, name=None), probability=TensorSpec(shape=(64, 2), dtype=tf.float64, name=None), table_size=TensorSpec(shape=(64, 2), dtype=tf.int64, name=None), priority=TensorSpec(shape=(64, 2), dtype=tf.float64, name=None), times_sampled=TensorSpec(shape=(64, 2), dtype=tf.int32, name=None)))>"
            ]
          },
          "execution_count": 30,
          "metadata": {},
          "output_type": "execute_result"
        }
      ],
      "source": [
        "# Dataset generates trajectories with shape [Bx2x...]\n",
        "dataset = replay_buffer.as_dataset(\n",
        "    num_parallel_calls=3,\n",
        "    sample_batch_size=batch_size,\n",
        "    num_steps=2).prefetch(3)\n",
        "\n",
        "dataset"
      ]
    },
    {
      "cell_type": "code",
      "execution_count": 31,
      "metadata": {
        "id": "K13AST-2ppOq"
      },
      "outputs": [
        {
          "name": "stdout",
          "output_type": "stream",
          "text": [
            "<tensorflow.python.data.ops.iterator_ops.OwnedIterator object at 0x7f950672cc40>\n"
          ]
        }
      ],
      "source": [
        "iterator = iter(dataset)\n",
        "print(iterator)"
      ]
    },
    {
      "cell_type": "code",
      "execution_count": 32,
      "metadata": {
        "id": "Th5w5Sff0b16"
      },
      "outputs": [
        {
          "name": "stderr",
          "output_type": "stream",
          "text": [
            "[reverb/cc/client.cc:165] Sampler and server are owned by the same process (29226) so Table uniform_table is accessed directly without gRPC.\n",
            "[reverb/cc/client.cc:165] Sampler and server are owned by the same process (29226) so Table uniform_table is accessed directly without gRPC.\n",
            "[reverb/cc/client.cc:165] Sampler and server are owned by the same process (29226) so Table uniform_table is accessed directly without gRPC.\n",
            "[reverb/cc/client.cc:165] Sampler and server are owned by the same process (29226) so Table uniform_table is accessed directly without gRPC.\n",
            "[reverb/cc/client.cc:165] Sampler and server are owned by the same process (29226) so Table uniform_table is accessed directly without gRPC.\n",
            "[reverb/cc/client.cc:165] Sampler and server are owned by the same process (29226) so Table uniform_table is accessed directly without gRPC.\n"
          ]
        },
        {
          "data": {
            "text/plain": [
              "(Trajectory(\n",
              " {'step_type': <tf.Tensor: shape=(64, 2), dtype=int32, numpy=\n",
              " array([[1, 1],\n",
              "        [1, 2],\n",
              "        [1, 1],\n",
              "        [0, 2],\n",
              "        [1, 1],\n",
              "        [1, 1],\n",
              "        [1, 1],\n",
              "        [1, 2],\n",
              "        [1, 2],\n",
              "        [1, 2],\n",
              "        [1, 2],\n",
              "        [1, 1],\n",
              "        [1, 1],\n",
              "        [1, 1],\n",
              "        [1, 1],\n",
              "        [1, 2],\n",
              "        [1, 2],\n",
              "        [1, 2],\n",
              "        [1, 2],\n",
              "        [1, 2],\n",
              "        [1, 2],\n",
              "        [1, 2],\n",
              "        [1, 1],\n",
              "        [1, 2],\n",
              "        [1, 1],\n",
              "        [1, 2],\n",
              "        [1, 2],\n",
              "        [1, 2],\n",
              "        [1, 1],\n",
              "        [1, 1],\n",
              "        [1, 1],\n",
              "        [1, 2],\n",
              "        [1, 1],\n",
              "        [1, 1],\n",
              "        [1, 1],\n",
              "        [1, 1],\n",
              "        [1, 1],\n",
              "        [1, 2],\n",
              "        [1, 2],\n",
              "        [1, 1],\n",
              "        [1, 2],\n",
              "        [1, 2],\n",
              "        [1, 1],\n",
              "        [1, 2],\n",
              "        [1, 2],\n",
              "        [1, 1],\n",
              "        [1, 1],\n",
              "        [1, 1],\n",
              "        [1, 1],\n",
              "        [1, 2],\n",
              "        [1, 1],\n",
              "        [1, 1],\n",
              "        [1, 1],\n",
              "        [1, 2],\n",
              "        [1, 1],\n",
              "        [1, 1],\n",
              "        [1, 2],\n",
              "        [1, 1],\n",
              "        [1, 1],\n",
              "        [1, 1],\n",
              "        [1, 2],\n",
              "        [1, 1],\n",
              "        [1, 1],\n",
              "        [1, 1]], dtype=int32)>,\n",
              "  'observation': <tf.Tensor: shape=(64, 2, 2), dtype=int32, numpy=\n",
              " array([[[13,  0],\n",
              "         [12,  0]],\n",
              " \n",
              "        [[ 9, 21],\n",
              "         [ 8, 20]],\n",
              " \n",
              "        [[15,  0],\n",
              "         [14,  0]],\n",
              " \n",
              "        [[ 0,  0],\n",
              "         [14, 15]],\n",
              " \n",
              "        [[ 5,  0],\n",
              "         [ 4, 16]],\n",
              " \n",
              "        [[ 7,  0],\n",
              "         [ 6,  0]],\n",
              " \n",
              "        [[21,  0],\n",
              "         [20,  0]],\n",
              " \n",
              "        [[21,  7],\n",
              "         [20,  6]],\n",
              " \n",
              "        [[15, 16],\n",
              "         [14, 15]],\n",
              " \n",
              "        [[16, 12],\n",
              "         [15, 11]],\n",
              " \n",
              "        [[13, 16],\n",
              "         [12, 15]],\n",
              " \n",
              "        [[ 0, 10],\n",
              "         [16,  9]],\n",
              " \n",
              "        [[ 0,  0],\n",
              "         [21,  0]],\n",
              " \n",
              "        [[ 1,  0],\n",
              "         [21,  0]],\n",
              " \n",
              "        [[11,  0],\n",
              "         [10,  0]],\n",
              " \n",
              "        [[ 1, 16],\n",
              "         [ 0, 15]],\n",
              " \n",
              "        [[21,  7],\n",
              "         [20,  6]],\n",
              " \n",
              "        [[ 6, 16],\n",
              "         [ 5, 15]],\n",
              " \n",
              "        [[15, 16],\n",
              "         [14, 15]],\n",
              " \n",
              "        [[ 2, 16],\n",
              "         [ 1, 15]],\n",
              " \n",
              "        [[ 2, 16],\n",
              "         [ 1, 15]],\n",
              " \n",
              "        [[21, 12],\n",
              "         [20, 11]],\n",
              " \n",
              "        [[ 2,  0],\n",
              "         [ 1,  0]],\n",
              " \n",
              "        [[11, 16],\n",
              "         [10, 15]],\n",
              " \n",
              "        [[ 3,  0],\n",
              "         [ 2,  0]],\n",
              " \n",
              "        [[21,  9],\n",
              "         [20,  8]],\n",
              " \n",
              "        [[21, 12],\n",
              "         [20, 11]],\n",
              " \n",
              "        [[21,  9],\n",
              "         [20,  8]],\n",
              " \n",
              "        [[ 6,  0],\n",
              "         [ 5, 16]],\n",
              " \n",
              "        [[ 0, 14],\n",
              "         [ 0, 13]],\n",
              " \n",
              "        [[ 0, 10],\n",
              "         [ 0,  9]],\n",
              " \n",
              "        [[16, 16],\n",
              "         [15, 15]],\n",
              " \n",
              "        [[16,  0],\n",
              "         [15,  0]],\n",
              " \n",
              "        [[20,  0],\n",
              "         [19,  0]],\n",
              " \n",
              "        [[ 0,  1],\n",
              "         [ 0,  0]],\n",
              " \n",
              "        [[13,  0],\n",
              "         [12,  0]],\n",
              " \n",
              "        [[11,  0],\n",
              "         [10, 16]],\n",
              " \n",
              "        [[ 5, 16],\n",
              "         [ 4, 15]],\n",
              " \n",
              "        [[ 6, 21],\n",
              "         [ 5, 20]],\n",
              " \n",
              "        [[ 0,  0],\n",
              "         [21,  0]],\n",
              " \n",
              "        [[21,  7],\n",
              "         [20,  6]],\n",
              " \n",
              "        [[ 8, 21],\n",
              "         [ 7, 20]],\n",
              " \n",
              "        [[ 0, 10],\n",
              "         [16,  9]],\n",
              " \n",
              "        [[ 6, 16],\n",
              "         [ 5, 15]],\n",
              " \n",
              "        [[ 9, 21],\n",
              "         [ 8, 20]],\n",
              " \n",
              "        [[ 0, 13],\n",
              "         [21, 12]],\n",
              " \n",
              "        [[13,  0],\n",
              "         [12,  0]],\n",
              " \n",
              "        [[ 0, 15],\n",
              "         [ 0, 14]],\n",
              " \n",
              "        [[16,  0],\n",
              "         [15,  0]],\n",
              " \n",
              "        [[ 6, 21],\n",
              "         [ 5, 20]],\n",
              " \n",
              "        [[ 6,  0],\n",
              "         [ 5,  0]],\n",
              " \n",
              "        [[21,  0],\n",
              "         [20, 16]],\n",
              " \n",
              "        [[ 0, 14],\n",
              "         [ 0, 13]],\n",
              " \n",
              "        [[15, 16],\n",
              "         [14, 15]],\n",
              " \n",
              "        [[ 0, 10],\n",
              "         [21,  9]],\n",
              " \n",
              "        [[12,  0],\n",
              "         [11,  0]],\n",
              " \n",
              "        [[21, 12],\n",
              "         [20, 11]],\n",
              " \n",
              "        [[13,  0],\n",
              "         [12,  0]],\n",
              " \n",
              "        [[ 0, 14],\n",
              "         [ 0, 13]],\n",
              " \n",
              "        [[21,  0],\n",
              "         [20,  0]],\n",
              " \n",
              "        [[ 8, 21],\n",
              "         [ 7, 20]],\n",
              " \n",
              "        [[ 0, 11],\n",
              "         [ 0, 10]],\n",
              " \n",
              "        [[ 0, 14],\n",
              "         [ 0, 13]],\n",
              " \n",
              "        [[14,  0],\n",
              "         [13, 16]]], dtype=int32)>,\n",
              "  'action': <tf.Tensor: shape=(64, 2), dtype=int32, numpy=\n",
              " array([[0, 0],\n",
              "        [0, 0],\n",
              "        [1, 1],\n",
              "        [1, 1],\n",
              "        [0, 1],\n",
              "        [1, 1],\n",
              "        [0, 1],\n",
              "        [0, 1],\n",
              "        [1, 1],\n",
              "        [1, 0],\n",
              "        [1, 1],\n",
              "        [1, 1],\n",
              "        [0, 0],\n",
              "        [0, 0],\n",
              "        [0, 0],\n",
              "        [1, 0],\n",
              "        [0, 1],\n",
              "        [1, 0],\n",
              "        [1, 1],\n",
              "        [1, 0],\n",
              "        [1, 0],\n",
              "        [0, 0],\n",
              "        [1, 0],\n",
              "        [1, 1],\n",
              "        [0, 1],\n",
              "        [0, 1],\n",
              "        [0, 0],\n",
              "        [0, 0],\n",
              "        [1, 1],\n",
              "        [1, 0],\n",
              "        [0, 0],\n",
              "        [1, 1],\n",
              "        [1, 0],\n",
              "        [0, 0],\n",
              "        [0, 1],\n",
              "        [0, 0],\n",
              "        [0, 1],\n",
              "        [1, 1],\n",
              "        [0, 0],\n",
              "        [0, 0],\n",
              "        [0, 1],\n",
              "        [0, 0],\n",
              "        [1, 1],\n",
              "        [1, 0],\n",
              "        [0, 0],\n",
              "        [0, 0],\n",
              "        [0, 0],\n",
              "        [0, 0],\n",
              "        [1, 0],\n",
              "        [0, 1],\n",
              "        [1, 0],\n",
              "        [0, 1],\n",
              "        [0, 1],\n",
              "        [1, 1],\n",
              "        [1, 0],\n",
              "        [0, 0],\n",
              "        [0, 0],\n",
              "        [0, 0],\n",
              "        [1, 0],\n",
              "        [0, 0],\n",
              "        [0, 1],\n",
              "        [0, 1],\n",
              "        [0, 1],\n",
              "        [1, 1]], dtype=int32)>,\n",
              "  'policy_info': (),\n",
              "  'next_step_type': <tf.Tensor: shape=(64, 2), dtype=int32, numpy=\n",
              " array([[1, 1],\n",
              "        [2, 2],\n",
              "        [1, 1],\n",
              "        [2, 2],\n",
              "        [1, 2],\n",
              "        [1, 1],\n",
              "        [1, 1],\n",
              "        [2, 2],\n",
              "        [2, 2],\n",
              "        [2, 2],\n",
              "        [2, 2],\n",
              "        [1, 2],\n",
              "        [1, 1],\n",
              "        [1, 1],\n",
              "        [1, 1],\n",
              "        [2, 1],\n",
              "        [2, 2],\n",
              "        [2, 2],\n",
              "        [2, 2],\n",
              "        [2, 2],\n",
              "        [2, 2],\n",
              "        [2, 2],\n",
              "        [1, 1],\n",
              "        [2, 2],\n",
              "        [1, 1],\n",
              "        [2, 2],\n",
              "        [2, 2],\n",
              "        [2, 2],\n",
              "        [1, 2],\n",
              "        [1, 1],\n",
              "        [1, 1],\n",
              "        [2, 2],\n",
              "        [1, 1],\n",
              "        [1, 1],\n",
              "        [1, 1],\n",
              "        [1, 1],\n",
              "        [1, 2],\n",
              "        [2, 2],\n",
              "        [2, 2],\n",
              "        [1, 1],\n",
              "        [2, 2],\n",
              "        [2, 2],\n",
              "        [1, 2],\n",
              "        [2, 2],\n",
              "        [2, 2],\n",
              "        [1, 2],\n",
              "        [1, 1],\n",
              "        [1, 1],\n",
              "        [1, 1],\n",
              "        [2, 2],\n",
              "        [1, 1],\n",
              "        [1, 2],\n",
              "        [1, 1],\n",
              "        [2, 2],\n",
              "        [1, 2],\n",
              "        [1, 1],\n",
              "        [2, 2],\n",
              "        [1, 1],\n",
              "        [1, 1],\n",
              "        [1, 1],\n",
              "        [2, 2],\n",
              "        [1, 1],\n",
              "        [1, 1],\n",
              "        [1, 2]], dtype=int32)>,\n",
              "  'reward': <tf.Tensor: shape=(64, 2), dtype=float32, numpy=\n",
              " array([[-1., -1.],\n",
              "        [-1., -1.],\n",
              "        [-1., -1.],\n",
              "        [-1., -1.],\n",
              "        [-1., -1.],\n",
              "        [-1., -1.],\n",
              "        [-1., -1.],\n",
              "        [-1., -1.],\n",
              "        [-1., -1.],\n",
              "        [-1., -1.],\n",
              "        [-1., -1.],\n",
              "        [-1., -1.],\n",
              "        [-1., -1.],\n",
              "        [-1., -1.],\n",
              "        [-1., -1.],\n",
              "        [-1., -1.],\n",
              "        [-1., -1.],\n",
              "        [-1., -1.],\n",
              "        [-1., -1.],\n",
              "        [-1., -1.],\n",
              "        [-1., -1.],\n",
              "        [-1., -1.],\n",
              "        [-1., -1.],\n",
              "        [-1., -1.],\n",
              "        [-1., -1.],\n",
              "        [-1., -1.],\n",
              "        [-1., -1.],\n",
              "        [-1., -1.],\n",
              "        [-1., -1.],\n",
              "        [-1., -1.],\n",
              "        [-1., -1.],\n",
              "        [-1., -1.],\n",
              "        [-1., -1.],\n",
              "        [-1., -1.],\n",
              "        [-1., -1.],\n",
              "        [-1., -1.],\n",
              "        [-1., -1.],\n",
              "        [-1., -1.],\n",
              "        [-1., -1.],\n",
              "        [-1., -1.],\n",
              "        [-1., -1.],\n",
              "        [-1., -1.],\n",
              "        [-1., -1.],\n",
              "        [-1., -1.],\n",
              "        [-1., -1.],\n",
              "        [-1., -1.],\n",
              "        [-1., -1.],\n",
              "        [-1., -1.],\n",
              "        [-1., -1.],\n",
              "        [-1., -1.],\n",
              "        [-1., -1.],\n",
              "        [-1., -1.],\n",
              "        [-1., -1.],\n",
              "        [-1., -1.],\n",
              "        [-1., -1.],\n",
              "        [-1., -1.],\n",
              "        [-1., -1.],\n",
              "        [-1., -1.],\n",
              "        [-1., -1.],\n",
              "        [-1., -1.],\n",
              "        [-1., -1.],\n",
              "        [-1., -1.],\n",
              "        [-1., -1.],\n",
              "        [-1., -1.]], dtype=float32)>,\n",
              "  'discount': <tf.Tensor: shape=(64, 2), dtype=float32, numpy=\n",
              " array([[1., 1.],\n",
              "        [0., 0.],\n",
              "        [1., 1.],\n",
              "        [0., 0.],\n",
              "        [1., 0.],\n",
              "        [1., 1.],\n",
              "        [1., 1.],\n",
              "        [0., 0.],\n",
              "        [0., 0.],\n",
              "        [0., 0.],\n",
              "        [0., 0.],\n",
              "        [1., 0.],\n",
              "        [1., 1.],\n",
              "        [1., 1.],\n",
              "        [1., 1.],\n",
              "        [0., 1.],\n",
              "        [0., 0.],\n",
              "        [0., 0.],\n",
              "        [0., 0.],\n",
              "        [0., 0.],\n",
              "        [0., 0.],\n",
              "        [0., 0.],\n",
              "        [1., 1.],\n",
              "        [0., 0.],\n",
              "        [1., 1.],\n",
              "        [0., 0.],\n",
              "        [0., 0.],\n",
              "        [0., 0.],\n",
              "        [1., 0.],\n",
              "        [1., 1.],\n",
              "        [1., 1.],\n",
              "        [0., 0.],\n",
              "        [1., 1.],\n",
              "        [1., 1.],\n",
              "        [1., 1.],\n",
              "        [1., 1.],\n",
              "        [1., 0.],\n",
              "        [0., 0.],\n",
              "        [0., 0.],\n",
              "        [1., 1.],\n",
              "        [0., 0.],\n",
              "        [0., 0.],\n",
              "        [1., 0.],\n",
              "        [0., 0.],\n",
              "        [0., 0.],\n",
              "        [1., 0.],\n",
              "        [1., 1.],\n",
              "        [1., 1.],\n",
              "        [1., 1.],\n",
              "        [0., 0.],\n",
              "        [1., 1.],\n",
              "        [1., 0.],\n",
              "        [1., 1.],\n",
              "        [0., 0.],\n",
              "        [1., 0.],\n",
              "        [1., 1.],\n",
              "        [0., 0.],\n",
              "        [1., 1.],\n",
              "        [1., 1.],\n",
              "        [1., 1.],\n",
              "        [0., 0.],\n",
              "        [1., 1.],\n",
              "        [1., 1.],\n",
              "        [1., 0.]], dtype=float32)>}),\n",
              " SampleInfo(key=<tf.Tensor: shape=(64, 2), dtype=uint64, numpy=\n",
              " array([[  402599657538205434,   402599657538205434],\n",
              "        [ 6006657684387811313,  6006657684387811313],\n",
              "        [13451416771899872305, 13451416771899872305],\n",
              "        [ 6443733047493720447,  6443733047493720447],\n",
              "        [ 2232311208910630529,  2232311208910630529],\n",
              "        [ 2602055909594352601,  2602055909594352601],\n",
              "        [  985567690734900644,   985567690734900644],\n",
              "        [14408685303339698321, 14408685303339698321],\n",
              "        [  292273828458640090,   292273828458640090],\n",
              "        [11243593740482047623, 11243593740482047623],\n",
              "        [ 8135986832083265614,  8135986832083265614],\n",
              "        [14593710770882430552, 14593710770882430552],\n",
              "        [ 2968246553771385871,  2968246553771385871],\n",
              "        [ 3330025001931741442,  3330025001931741442],\n",
              "        [17436987168335863408, 17436987168335863408],\n",
              "        [ 3532391527958959100,  3532391527958959100],\n",
              "        [14408685303339698321, 14408685303339698321],\n",
              "        [ 9820777298322233884,  9820777298322233884],\n",
              "        [ 2342547724054235729,  2342547724054235729],\n",
              "        [12897706108444857946, 12897706108444857946],\n",
              "        [12897706108444857946, 12897706108444857946],\n",
              "        [ 8865938592326968579,  8865938592326968579],\n",
              "        [ 7171990973505127117,  7171990973505127117],\n",
              "        [ 3162300355966310891,  3162300355966310891],\n",
              "        [14901140414875996744, 14901140414875996744],\n",
              "        [10000691936845562700, 10000691936845562700],\n",
              "        [ 8865938592326968579,  8865938592326968579],\n",
              "        [ 6691259252961566105,  6691259252961566105],\n",
              "        [15770693133003165524, 15770693133003165524],\n",
              "        [ 2160104156751041970,  2160104156751041970],\n",
              "        [ 9993583630713489005,  9993583630713489005],\n",
              "        [15357672237787137884, 15357672237787137884],\n",
              "        [  486535286744296105,   486535286744296105],\n",
              "        [10901789711916154000, 10901789711916154000],\n",
              "        [ 8993323823933871893,  8993323823933871893],\n",
              "        [  402599657538205434,   402599657538205434],\n",
              "        [ 2886156745345397495,  2886156745345397495],\n",
              "        [11551982850433291923, 11551982850433291923],\n",
              "        [ 3080139901605350570,  3080139901605350570],\n",
              "        [15950989135793059527, 15950989135793059527],\n",
              "        [14408685303339698321, 14408685303339698321],\n",
              "        [ 4538459065335042054,  4538459065335042054],\n",
              "        [14593710770882430552, 14593710770882430552],\n",
              "        [ 9820777298322233884,  9820777298322233884],\n",
              "        [ 6006657684387811313,  6006657684387811313],\n",
              "        [ 7462888386761929001,  7462888386761929001],\n",
              "        [  402599657538205434,   402599657538205434],\n",
              "        [11494375697062303303, 11494375697062303303],\n",
              "        [  486535286744296105,   486535286744296105],\n",
              "        [10895269061860720347, 10895269061860720347],\n",
              "        [ 2234001063358539181,  2234001063358539181],\n",
              "        [ 6809386026564209747,  6809386026564209747],\n",
              "        [14928944361889519553, 14928944361889519553],\n",
              "        [ 2342547724054235729,  2342547724054235729],\n",
              "        [ 4758062107060519415,  4758062107060519415],\n",
              "        [ 6541978410833500152,  6541978410833500152],\n",
              "        [ 8865938592326968579,  8865938592326968579],\n",
              "        [  402599657538205434,   402599657538205434],\n",
              "        [ 2160104156751041970,  2160104156751041970],\n",
              "        [16048748163432536521, 16048748163432536521],\n",
              "        [ 2542466693455168232,  2542466693455168232],\n",
              "        [14685368412740130845, 14685368412740130845],\n",
              "        [14928944361889519553, 14928944361889519553],\n",
              "        [ 3275861940275751979,  3275861940275751979]], dtype=uint64)>, probability=<tf.Tensor: shape=(64, 2), dtype=float64, numpy=\n",
              " array([[0.01030928, 0.01030928],\n",
              "        [0.01030928, 0.01030928],\n",
              "        [0.01030928, 0.01030928],\n",
              "        [0.01030928, 0.01030928],\n",
              "        [0.01030928, 0.01030928],\n",
              "        [0.01030928, 0.01030928],\n",
              "        [0.01030928, 0.01030928],\n",
              "        [0.01030928, 0.01030928],\n",
              "        [0.01030928, 0.01030928],\n",
              "        [0.01030928, 0.01030928],\n",
              "        [0.01030928, 0.01030928],\n",
              "        [0.01030928, 0.01030928],\n",
              "        [0.01030928, 0.01030928],\n",
              "        [0.01030928, 0.01030928],\n",
              "        [0.01030928, 0.01030928],\n",
              "        [0.01030928, 0.01030928],\n",
              "        [0.01030928, 0.01030928],\n",
              "        [0.01030928, 0.01030928],\n",
              "        [0.01030928, 0.01030928],\n",
              "        [0.01030928, 0.01030928],\n",
              "        [0.01030928, 0.01030928],\n",
              "        [0.01030928, 0.01030928],\n",
              "        [0.01030928, 0.01030928],\n",
              "        [0.01030928, 0.01030928],\n",
              "        [0.01030928, 0.01030928],\n",
              "        [0.01030928, 0.01030928],\n",
              "        [0.01030928, 0.01030928],\n",
              "        [0.01030928, 0.01030928],\n",
              "        [0.01030928, 0.01030928],\n",
              "        [0.01030928, 0.01030928],\n",
              "        [0.01030928, 0.01030928],\n",
              "        [0.01030928, 0.01030928],\n",
              "        [0.01030928, 0.01030928],\n",
              "        [0.01030928, 0.01030928],\n",
              "        [0.01030928, 0.01030928],\n",
              "        [0.01030928, 0.01030928],\n",
              "        [0.01030928, 0.01030928],\n",
              "        [0.01030928, 0.01030928],\n",
              "        [0.01030928, 0.01030928],\n",
              "        [0.01030928, 0.01030928],\n",
              "        [0.01030928, 0.01030928],\n",
              "        [0.01030928, 0.01030928],\n",
              "        [0.01030928, 0.01030928],\n",
              "        [0.01030928, 0.01030928],\n",
              "        [0.01030928, 0.01030928],\n",
              "        [0.01030928, 0.01030928],\n",
              "        [0.01030928, 0.01030928],\n",
              "        [0.01030928, 0.01030928],\n",
              "        [0.01030928, 0.01030928],\n",
              "        [0.01030928, 0.01030928],\n",
              "        [0.01030928, 0.01030928],\n",
              "        [0.01030928, 0.01030928],\n",
              "        [0.01030928, 0.01030928],\n",
              "        [0.01030928, 0.01030928],\n",
              "        [0.01030928, 0.01030928],\n",
              "        [0.01030928, 0.01030928],\n",
              "        [0.01030928, 0.01030928],\n",
              "        [0.01030928, 0.01030928],\n",
              "        [0.01030928, 0.01030928],\n",
              "        [0.01030928, 0.01030928],\n",
              "        [0.01030928, 0.01030928],\n",
              "        [0.01030928, 0.01030928],\n",
              "        [0.01030928, 0.01030928],\n",
              "        [0.01030928, 0.01030928]])>, table_size=<tf.Tensor: shape=(64, 2), dtype=int64, numpy=\n",
              " array([[97, 97],\n",
              "        [97, 97],\n",
              "        [97, 97],\n",
              "        [97, 97],\n",
              "        [97, 97],\n",
              "        [97, 97],\n",
              "        [97, 97],\n",
              "        [97, 97],\n",
              "        [97, 97],\n",
              "        [97, 97],\n",
              "        [97, 97],\n",
              "        [97, 97],\n",
              "        [97, 97],\n",
              "        [97, 97],\n",
              "        [97, 97],\n",
              "        [97, 97],\n",
              "        [97, 97],\n",
              "        [97, 97],\n",
              "        [97, 97],\n",
              "        [97, 97],\n",
              "        [97, 97],\n",
              "        [97, 97],\n",
              "        [97, 97],\n",
              "        [97, 97],\n",
              "        [97, 97],\n",
              "        [97, 97],\n",
              "        [97, 97],\n",
              "        [97, 97],\n",
              "        [97, 97],\n",
              "        [97, 97],\n",
              "        [97, 97],\n",
              "        [97, 97],\n",
              "        [97, 97],\n",
              "        [97, 97],\n",
              "        [97, 97],\n",
              "        [97, 97],\n",
              "        [97, 97],\n",
              "        [97, 97],\n",
              "        [97, 97],\n",
              "        [97, 97],\n",
              "        [97, 97],\n",
              "        [97, 97],\n",
              "        [97, 97],\n",
              "        [97, 97],\n",
              "        [97, 97],\n",
              "        [97, 97],\n",
              "        [97, 97],\n",
              "        [97, 97],\n",
              "        [97, 97],\n",
              "        [97, 97],\n",
              "        [97, 97],\n",
              "        [97, 97],\n",
              "        [97, 97],\n",
              "        [97, 97],\n",
              "        [97, 97],\n",
              "        [97, 97],\n",
              "        [97, 97],\n",
              "        [97, 97],\n",
              "        [97, 97],\n",
              "        [97, 97],\n",
              "        [97, 97],\n",
              "        [97, 97],\n",
              "        [97, 97],\n",
              "        [97, 97]])>, priority=<tf.Tensor: shape=(64, 2), dtype=float64, numpy=\n",
              " array([[1., 1.],\n",
              "        [1., 1.],\n",
              "        [1., 1.],\n",
              "        [1., 1.],\n",
              "        [1., 1.],\n",
              "        [1., 1.],\n",
              "        [1., 1.],\n",
              "        [1., 1.],\n",
              "        [1., 1.],\n",
              "        [1., 1.],\n",
              "        [1., 1.],\n",
              "        [1., 1.],\n",
              "        [1., 1.],\n",
              "        [1., 1.],\n",
              "        [1., 1.],\n",
              "        [1., 1.],\n",
              "        [1., 1.],\n",
              "        [1., 1.],\n",
              "        [1., 1.],\n",
              "        [1., 1.],\n",
              "        [1., 1.],\n",
              "        [1., 1.],\n",
              "        [1., 1.],\n",
              "        [1., 1.],\n",
              "        [1., 1.],\n",
              "        [1., 1.],\n",
              "        [1., 1.],\n",
              "        [1., 1.],\n",
              "        [1., 1.],\n",
              "        [1., 1.],\n",
              "        [1., 1.],\n",
              "        [1., 1.],\n",
              "        [1., 1.],\n",
              "        [1., 1.],\n",
              "        [1., 1.],\n",
              "        [1., 1.],\n",
              "        [1., 1.],\n",
              "        [1., 1.],\n",
              "        [1., 1.],\n",
              "        [1., 1.],\n",
              "        [1., 1.],\n",
              "        [1., 1.],\n",
              "        [1., 1.],\n",
              "        [1., 1.],\n",
              "        [1., 1.],\n",
              "        [1., 1.],\n",
              "        [1., 1.],\n",
              "        [1., 1.],\n",
              "        [1., 1.],\n",
              "        [1., 1.],\n",
              "        [1., 1.],\n",
              "        [1., 1.],\n",
              "        [1., 1.],\n",
              "        [1., 1.],\n",
              "        [1., 1.],\n",
              "        [1., 1.],\n",
              "        [1., 1.],\n",
              "        [1., 1.],\n",
              "        [1., 1.],\n",
              "        [1., 1.],\n",
              "        [1., 1.],\n",
              "        [1., 1.],\n",
              "        [1., 1.],\n",
              "        [1., 1.]])>, times_sampled=<tf.Tensor: shape=(64, 2), dtype=int32, numpy=\n",
              " array([[1, 1],\n",
              "        [1, 1],\n",
              "        [1, 1],\n",
              "        [1, 1],\n",
              "        [1, 1],\n",
              "        [1, 1],\n",
              "        [1, 1],\n",
              "        [2, 2],\n",
              "        [1, 1],\n",
              "        [1, 1],\n",
              "        [1, 1],\n",
              "        [1, 1],\n",
              "        [1, 1],\n",
              "        [1, 1],\n",
              "        [1, 1],\n",
              "        [1, 1],\n",
              "        [1, 1],\n",
              "        [1, 1],\n",
              "        [5, 5],\n",
              "        [1, 1],\n",
              "        [2, 2],\n",
              "        [3, 3],\n",
              "        [2, 2],\n",
              "        [3, 3],\n",
              "        [2, 2],\n",
              "        [2, 2],\n",
              "        [4, 4],\n",
              "        [2, 2],\n",
              "        [3, 3],\n",
              "        [3, 3],\n",
              "        [5, 5],\n",
              "        [1, 1],\n",
              "        [5, 5],\n",
              "        [3, 3],\n",
              "        [7, 7],\n",
              "        [4, 4],\n",
              "        [5, 5],\n",
              "        [2, 2],\n",
              "        [6, 6],\n",
              "        [2, 2],\n",
              "        [3, 3],\n",
              "        [3, 3],\n",
              "        [4, 4],\n",
              "        [4, 4],\n",
              "        [5, 5],\n",
              "        [3, 3],\n",
              "        [5, 5],\n",
              "        [5, 5],\n",
              "        [6, 6],\n",
              "        [5, 5],\n",
              "        [2, 2],\n",
              "        [3, 3],\n",
              "        [6, 6],\n",
              "        [6, 6],\n",
              "        [4, 4],\n",
              "        [3, 3],\n",
              "        [5, 5],\n",
              "        [6, 6],\n",
              "        [4, 4],\n",
              "        [2, 2],\n",
              "        [4, 4],\n",
              "        [1, 1],\n",
              "        [7, 7],\n",
              "        [2, 2]], dtype=int32)>))"
            ]
          },
          "execution_count": 32,
          "metadata": {},
          "output_type": "execute_result"
        }
      ],
      "source": [
        "# For the curious:\n",
        "# Uncomment to see what the dataset iterator is feeding to the agent.\n",
        "# Compare this representation of replay data\n",
        "# to the collection of individual trajectories shown earlier.\n",
        "\n",
        "iterator.next()"
      ]
    },
    {
      "cell_type": "markdown",
      "metadata": {
        "id": "hBc9lj9VWWtZ"
      },
      "source": [
        "## Training the agent\n",
        "\n",
        "Two things must happen during the training loop:\n",
        "\n",
        "-   collect data from the environment\n",
        "-   use that data to train the agent's neural network(s)\n",
        "\n",
        "This example also periodicially evaluates the policy and prints the current score.\n",
        "\n",
        "The following will take ~5 minutes to run."
      ]
    },
    {
      "cell_type": "code",
      "execution_count": 33,
      "metadata": {
        "id": "0pTbJ3PeyF-u"
      },
      "outputs": [
        {
          "name": "stdout",
          "output_type": "stream",
          "text": [
            "WARNING:tensorflow:From /home/user/research-project/lib/python3.10/site-packages/tensorflow/python/util/dispatch.py:1260: calling foldr_v2 (from tensorflow.python.ops.functional_ops) with back_prop=False is deprecated and will be removed in a future version.\n",
            "Instructions for updating:\n",
            "back_prop=False is deprecated. Consider using tf.stop_gradient instead.\n",
            "Instead of:\n",
            "results = tf.foldr(fn, elems, back_prop=False)\n",
            "Use:\n",
            "results = tf.nest.map_structure(tf.stop_gradient, tf.foldr(fn, elems))\n",
            "step = 200: loss = 0.5442250370979309\n",
            "step = 400: loss = 0.45307618379592896\n",
            "step = 600: loss = 0.378414511680603\n"
          ]
        },
        {
          "ename": "KeyboardInterrupt",
          "evalue": "",
          "output_type": "error",
          "traceback": [
            "\u001b[0;31m---------------------------------------------------------------------------\u001b[0m",
            "\u001b[0;31mKeyboardInterrupt\u001b[0m                         Traceback (most recent call last)",
            "Cell \u001b[0;32mIn[33], line 31\u001b[0m\n\u001b[1;32m     21\u001b[0m collect_driver \u001b[38;5;241m=\u001b[39m py_driver\u001b[38;5;241m.\u001b[39mPyDriver(\n\u001b[1;32m     22\u001b[0m     env,\n\u001b[1;32m     23\u001b[0m     py_tf_eager_policy\u001b[38;5;241m.\u001b[39mPyTFEagerPolicy(\n\u001b[1;32m     24\u001b[0m       agent\u001b[38;5;241m.\u001b[39mcollect_policy, use_tf_function\u001b[38;5;241m=\u001b[39m\u001b[38;5;28;01mTrue\u001b[39;00m),\n\u001b[1;32m     25\u001b[0m     [rb_observer],\n\u001b[1;32m     26\u001b[0m     max_steps\u001b[38;5;241m=\u001b[39mcollect_steps_per_iteration)\n\u001b[1;32m     28\u001b[0m \u001b[38;5;28;01mfor\u001b[39;00m _ \u001b[38;5;129;01min\u001b[39;00m \u001b[38;5;28mrange\u001b[39m(num_iterations):\n\u001b[1;32m     29\u001b[0m \n\u001b[1;32m     30\u001b[0m   \u001b[38;5;66;03m# Collect a few steps and save to the replay buffer.\u001b[39;00m\n\u001b[0;32m---> 31\u001b[0m   time_step, _ \u001b[38;5;241m=\u001b[39m \u001b[43mcollect_driver\u001b[49m\u001b[38;5;241;43m.\u001b[39;49m\u001b[43mrun\u001b[49m\u001b[43m(\u001b[49m\u001b[43mtime_step\u001b[49m\u001b[43m)\u001b[49m\n\u001b[1;32m     33\u001b[0m   \u001b[38;5;66;03m# Sample a batch of data from the buffer and update the agent's network.\u001b[39;00m\n\u001b[1;32m     34\u001b[0m   experience, unused_info \u001b[38;5;241m=\u001b[39m \u001b[38;5;28mnext\u001b[39m(iterator)\n",
            "File \u001b[0;32m~/research-project/lib/python3.10/site-packages/tf_agents/drivers/py_driver.py:120\u001b[0m, in \u001b[0;36mPyDriver.run\u001b[0;34m(self, time_step, policy_state)\u001b[0m\n\u001b[1;32m    117\u001b[0m   policy_state \u001b[38;5;241m=\u001b[39m \u001b[38;5;28mself\u001b[39m\u001b[38;5;241m.\u001b[39m_policy\u001b[38;5;241m.\u001b[39mget_initial_state(\u001b[38;5;28mself\u001b[39m\u001b[38;5;241m.\u001b[39menv\u001b[38;5;241m.\u001b[39mbatch_size \u001b[38;5;129;01mor\u001b[39;00m \u001b[38;5;241m1\u001b[39m)\n\u001b[1;32m    119\u001b[0m action_step \u001b[38;5;241m=\u001b[39m \u001b[38;5;28mself\u001b[39m\u001b[38;5;241m.\u001b[39mpolicy\u001b[38;5;241m.\u001b[39maction(time_step, policy_state)\n\u001b[0;32m--> 120\u001b[0m next_time_step \u001b[38;5;241m=\u001b[39m \u001b[38;5;28;43mself\u001b[39;49m\u001b[38;5;241;43m.\u001b[39;49m\u001b[43menv\u001b[49m\u001b[38;5;241;43m.\u001b[39;49m\u001b[43mstep\u001b[49m\u001b[43m(\u001b[49m\u001b[43maction_step\u001b[49m\u001b[38;5;241;43m.\u001b[39;49m\u001b[43maction\u001b[49m\u001b[43m)\u001b[49m\n\u001b[1;32m    122\u001b[0m \u001b[38;5;66;03m# When using observer (for the purpose of training), only the previous\u001b[39;00m\n\u001b[1;32m    123\u001b[0m \u001b[38;5;66;03m# policy_state is useful. Therefore substitube it in the PolicyStep and\u001b[39;00m\n\u001b[1;32m    124\u001b[0m \u001b[38;5;66;03m# consume it w/ the observer.\u001b[39;00m\n\u001b[1;32m    125\u001b[0m action_step_with_previous_state \u001b[38;5;241m=\u001b[39m action_step\u001b[38;5;241m.\u001b[39m_replace(state\u001b[38;5;241m=\u001b[39mpolicy_state)\n",
            "File \u001b[0;32m~/research-project/lib/python3.10/site-packages/tf_agents/environments/py_environment.py:238\u001b[0m, in \u001b[0;36mPyEnvironment.step\u001b[0;34m(self, action)\u001b[0m\n\u001b[1;32m    233\u001b[0m \u001b[38;5;28;01mif\u001b[39;00m \u001b[38;5;28mself\u001b[39m\u001b[38;5;241m.\u001b[39m_current_time_step \u001b[38;5;129;01mis\u001b[39;00m \u001b[38;5;28;01mNone\u001b[39;00m \u001b[38;5;129;01mor\u001b[39;00m \u001b[38;5;28mself\u001b[39m\u001b[38;5;241m.\u001b[39mshould_reset(\n\u001b[1;32m    234\u001b[0m     \u001b[38;5;28mself\u001b[39m\u001b[38;5;241m.\u001b[39m_current_time_step\n\u001b[1;32m    235\u001b[0m ):\n\u001b[1;32m    236\u001b[0m   \u001b[38;5;28;01mreturn\u001b[39;00m \u001b[38;5;28mself\u001b[39m\u001b[38;5;241m.\u001b[39mreset()\n\u001b[0;32m--> 238\u001b[0m \u001b[38;5;28mself\u001b[39m\u001b[38;5;241m.\u001b[39m_current_time_step \u001b[38;5;241m=\u001b[39m \u001b[38;5;28;43mself\u001b[39;49m\u001b[38;5;241;43m.\u001b[39;49m\u001b[43m_step\u001b[49m\u001b[43m(\u001b[49m\u001b[43maction\u001b[49m\u001b[43m)\u001b[49m\n\u001b[1;32m    239\u001b[0m \u001b[38;5;28;01mreturn\u001b[39;00m \u001b[38;5;28mself\u001b[39m\u001b[38;5;241m.\u001b[39m_current_time_step\n",
            "Cell \u001b[0;32mIn[8], line -1\u001b[0m, in \u001b[0;36mdiscrete_environment._step\u001b[0;34m(self, action)\u001b[0m\n\u001b[1;32m      0\u001b[0m <Error retrieving source code with stack_data see ipython/ipython#13598>\n",
            "\u001b[0;31mKeyboardInterrupt\u001b[0m: "
          ]
        }
      ],
      "source": [
        "#@test {\"skip\": true}\n",
        "try:\n",
        "  %%time\n",
        "except:\n",
        "  pass\n",
        "\n",
        "# (Optional) Optimize by wrapping some of the code in a graph using TF function.\n",
        "agent.train = common.function(agent.train)\n",
        "\n",
        "# Reset the train step.\n",
        "agent.train_step_counter.assign(0)\n",
        "\n",
        "# Evaluate the agent's policy once before training.\n",
        "avg_return = compute_avg_return(eval_env, agent.policy, num_eval_episodes)\n",
        "returns = [avg_return]\n",
        "\n",
        "# Reset the environment.\n",
        "time_step = train_py_env.reset()\n",
        "\n",
        "# Create a driver to collect experience.\n",
        "collect_driver = py_driver.PyDriver(\n",
        "    env,\n",
        "    py_tf_eager_policy.PyTFEagerPolicy(\n",
        "      agent.collect_policy, use_tf_function=True),\n",
        "    [rb_observer],\n",
        "    max_steps=collect_steps_per_iteration)\n",
        "\n",
        "for _ in range(num_iterations):\n",
        "\n",
        "  # Collect a few steps and save to the replay buffer.\n",
        "  time_step, _ = collect_driver.run(time_step)\n",
        "\n",
        "  # Sample a batch of data from the buffer and update the agent's network.\n",
        "  experience, unused_info = next(iterator)\n",
        "  train_loss = agent.train(experience).loss\n",
        "\n",
        "  step = agent.train_step_counter.numpy()\n",
        "  \n",
        "  \n",
        "  if step % log_interval == 0:\n",
        "    print('step = {0}: loss = {1}'.format(step, train_loss))\n",
        "\n",
        "  if step % eval_interval == 0:\n",
        "    avg_return = compute_avg_return(eval_env, agent.policy, num_eval_episodes)\n",
        "    print('step = {0}: Average Return = {1}'.format(step, avg_return))\n",
        "    returns.append(avg_return)"
      ]
    },
    {
      "cell_type": "markdown",
      "metadata": {
        "id": "68jNcA_TiJDq"
      },
      "source": [
        "## Visualization\n"
      ]
    },
    {
      "cell_type": "markdown",
      "metadata": {
        "id": "aO-LWCdbbOIC"
      },
      "source": [
        "### Plots\n",
        "\n",
        "Use `matplotlib.pyplot` to chart how the policy improved during training.\n",
        "\n",
        "One iteration of `Cartpole-v0` consists of 200 time steps. The environment gives a reward of `+1` for each step the pole stays up, so the maximum return for one episode is 200. The charts shows the return increasing towards that maximum each time it is evaluated during training. (It may be a little unstable and not increase monotonically each time.)"
      ]
    },
    {
      "cell_type": "code",
      "execution_count": 33,
      "metadata": {
        "id": "NxtL1mbOYCVO"
      },
      "outputs": [
        {
          "data": {
            "text/plain": [
              "(31.475, 250.0)"
            ]
          },
          "execution_count": 33,
          "metadata": {},
          "output_type": "execute_result"
        },
        {
          "data": {
            "image/png": "[encoded data removed]",
            "text/plain": [
              "<Figure size 640x480 with 1 Axes>"
            ]
          },
          "metadata": {},
          "output_type": "display_data"
        }
      ],
      "source": [
        "#@test {\"skip\": true}\n",
        "\n",
        "iterations = range(0, num_iterations + 1, eval_interval)\n",
        "plt.plot(iterations, returns)\n",
        "plt.ylabel('Average Return')\n",
        "plt.xlabel('Iterations')\n",
        "plt.ylim(top=250)"
      ]
    },
    {
      "cell_type": "markdown",
      "metadata": {
        "id": "M7-XpPP99Cy7"
      },
      "source": [
        "### Videos"
      ]
    },
    {
      "cell_type": "markdown",
      "metadata": {
        "id": "9pGfGxSH32gn"
      },
      "source": [
        "Charts are nice. But more exciting is seeing an agent actually performing a task in an environment.\n",
        "\n",
        "First, create a function to embed videos in the notebook."
      ]
    },
    {
      "cell_type": "code",
      "execution_count": 34,
      "metadata": {
        "id": "ULaGr8pvOKbl"
      },
      "outputs": [],
      "source": [
        "def embed_mp4(filename):\n",
        "  \"\"\"Embeds an mp4 file in the notebook.\"\"\"\n",
        "  video = open(filename,'rb').read()\n",
        "  b64 = base64.b64encode(video)\n",
        "  tag = '''\n",
        "  <video width=\"640\" height=\"480\" controls>\n",
        "    <source src=\"data:video/mp4;base64,{0}\" type=\"video/mp4\">\n",
        "  Your browser does not support the video tag.\n",
        "  </video>'''.format(b64.decode())\n",
        "\n",
        "  return IPython.display.HTML(tag)"
      ]
    },
    {
      "cell_type": "markdown",
      "metadata": {
        "id": "9c_PH-pX4Pr5"
      },
      "source": [
        "Now iterate through a few episodes of the Cartpole game with the agent. The underlying Python environment (the one \"inside\" the TensorFlow environment wrapper) provides a `render()` method, which outputs an image of the environment state. These can be collected into a video."
      ]
    },
    {
      "cell_type": "code",
      "execution_count": 35,
      "metadata": {
        "id": "owOVWB158NlF"
      },
      "outputs": [
        {
          "name": "stderr",
          "output_type": "stream",
          "text": [
            "WARNING:root:IMAGEIO FFMPEG_WRITER WARNING: input image is not divisible by macro_block_size=16, resizing from (400, 600) to (400, 608) to ensure video compatibility with most codecs and players. To prevent resizing, make your input image divisible by the macro_block_size or set the macro_block_size to None (risking incompatibility). You may also see a FFMPEG warning concerning speedloss due to data not being aligned.\n",
            "[swscaler @ 0x561cc572b780] Warning: data is not aligned! This can lead to a speed loss\n"
          ]
        },
        {
          "data": {
            "text/html": [
              "\n",
              "  <video width=\"640\" height=\"480\" controls>\n",
              "    <source src=\"data:video/mp4;base64,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\" type=\"video/mp4\">\n",
              "  Your browser does not support the video tag.\n",
              "  </video>"
            ],
            "text/plain": [
              "<IPython.core.display.HTML object>"
            ]
          },
          "execution_count": 35,
          "metadata": {},
          "output_type": "execute_result"
        }
      ],
      "source": [
        "def create_policy_eval_video(policy, filename, num_episodes=5, fps=30):\n",
        "  filename = filename + \".mp4\"\n",
        "  with imageio.get_writer(filename, fps=fps) as video:\n",
        "    for _ in range(num_episodes):\n",
        "      time_step = eval_env.reset()\n",
        "      video.append_data(eval_py_env.render())\n",
        "      while not time_step.is_last():\n",
        "        action_step = policy.action(time_step)\n",
        "        time_step = eval_env.step(action_step.action)\n",
        "        video.append_data(eval_py_env.render())\n",
        "  return embed_mp4(filename)\n",
        "\n",
        "create_policy_eval_video(agent.policy, \"trained-agent\")"
      ]
    },
    {
      "cell_type": "markdown",
      "metadata": {
        "id": "povaAOcZygLw"
      },
      "source": [
        "For fun, compare the trained agent (above) to an agent moving randomly. (It does not do as well.)"
      ]
    },
    {
      "cell_type": "code",
      "execution_count": 36,
      "metadata": {
        "id": "pJZIdC37yNH4"
      },
      "outputs": [
        {
          "name": "stderr",
          "output_type": "stream",
          "text": [
            "WARNING:root:IMAGEIO FFMPEG_WRITER WARNING: input image is not divisible by macro_block_size=16, resizing from (400, 600) to (400, 608) to ensure video compatibility with most codecs and players. To prevent resizing, make your input image divisible by the macro_block_size or set the macro_block_size to None (risking incompatibility). You may also see a FFMPEG warning concerning speedloss due to data not being aligned.\n",
            "[swscaler @ 0x55e06b660780] Warning: data is not aligned! This can lead to a speed loss\n"
          ]
        },
        {
          "data": {
            "text/html": [
              "\n",
              "  <video width=\"640\" height=\"480\" controls>\n",
              "    <source src=\"data:video/mp4;base64,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\" type=\"video/mp4\">\n",
              "  Your browser does not support the video tag.\n",
              "  </video>"
            ],
            "text/plain": [
              "<IPython.core.display.HTML object>"
            ]
          },
          "execution_count": 36,
          "metadata": {},
          "output_type": "execute_result"
        }
      ],
      "source": [
        "create_policy_eval_video(random_policy, \"random-agent\")"
      ]
    }
  ],
  "metadata": {
    "colab": {
      "name": "DQN Tutorial.ipynb",
      "private_outputs": true,
      "provenance": [],
      "toc_visible": true
    },
    "kernelspec": {
      "display_name": "Python 3",
      "language": "python",
      "name": "python3"
    },
    "language_info": {
      "codemirror_mode": {
        "name": "ipython",
        "version": 3
      },
      "file_extension": ".py",
      "mimetype": "text/x-python",
      "name": "python",
      "nbconvert_exporter": "python",
      "pygments_lexer": "ipython3",
      "version": "3.10.12"
    },
    "pycharm": {
      "stem_cell": {
        "cell_type": "raw",
        "metadata": {
          "collapsed": false
        },
        "source": []
      }
    }
  },
  "nbformat": 4,
  "nbformat_minor": 0
}
